{
 "cells": [
  {
   "cell_type": "markdown",
   "metadata": {},
   "source": [
    "### Hyun-Joon Yang\n",
    "### yanghyun@usc.edu\n",
    "### QBIO 401\n",
    "### Assignment 5"
   ]
  },
  {
   "cell_type": "markdown",
   "metadata": {},
   "source": [
    "We are going to write a UPGMA algorithm in Python and analyze some human data.\n",
    "\n",
    "On Blackboard, you can find a file named upgmaData.py, which contains:\n",
    "1. humansList (and testList) are species lists. They are in the form of a tuple.\n",
    "2. humansDistances (and testDistances) are dictionaries specifying pairwise distances between species. They are in the form where the key is a tuple which is a pair of species name, e.g., (“species A”,”species B”) and the value is the pairwise distance. The following are the details for the human data:\n",
    "\n",
    "Modern human data: distances based on mitochondrial sequence\n",
    "<table>\n",
    "    <tr>\n",
    "        <td>San</td>\n",
    "        <td>San individual from southern Africa</td>\n",
    "    </tr>\n",
    "    <tr>\n",
    "        <td>Yoruba</td>\n",
    "        <td>Yoruba individual from western Africa</td>\n",
    "    </tr>\n",
    "    <tr>\n",
    "        <td>Finnish</td>\n",
    "        <td>Finnish individual from northern Europe</td>\n",
    "    </tr>\n",
    "    <tr>\n",
    "        <td>Kikuyu</td>\n",
    "        <td>Kikuyu individual from eastern Africa</td>\n",
    "    </tr>\n",
    "    <tr>\n",
    "        <td>Papuan</td>\n",
    "        <td>Papuan individual from New Guinea</td>\n",
    "    </tr>\n",
    "    <tr>\n",
    "        <td>Han</td>\n",
    "        <td>Han individual from China</td>\n",
    "    </tr>\n",
    "</table>\n",
    "\n",
    "Note: use “from upgmaData import \\*” on the first line of your code to be able to use the data."
   ]
  },
  {
   "cell_type": "code",
   "execution_count": 1,
   "metadata": {},
   "outputs": [],
   "source": [
    "from upgmaData import *"
   ]
  },
  {
   "cell_type": "markdown",
   "metadata": {},
   "source": [
    "### Write the following Python class for a tree node (as taught in Jinsen’s discussion):\n",
    "#### 1. TreeNode\n",
    "\n",
    "* Has four properties including key, distance, left and right, where key is for storing species name, distance is for branch length, left is for the left child and right is for the right child. The class has a function print to print the tree structure in the form of (key, distance, left, right). For example, (‘W_X’,0.5,(‘W’,0,(),()),(‘X’,0,(),())) is for the tree W_X with left child (‘W’,0,(),()) and right child (‘X’,0,(),()); the branch length to its child is 0.5."
   ]
  },
  {
   "cell_type": "code",
   "execution_count": 2,
   "metadata": {},
   "outputs": [],
   "source": [
    "class TreeNode:\n",
    "    def __init__(self, key, distance, left, right):\n",
    "        self.key = key\n",
    "        self.distance = distance\n",
    "        self.left = left\n",
    "        self.right = right\n",
    "        if left is None and right is None:\n",
    "            self.leaves = 1\n",
    "        elif left is None:\n",
    "            self.leaves = self.right.leaves\n",
    "        elif right is None:\n",
    "            self.leaves = self.left.leaves\n",
    "        else:\n",
    "            self.leaves = self.left.leaves + self.right.leaves\n",
    "        \n",
    "    def print_helper(self):\n",
    "        if self.left is None and self.right is None:\n",
    "            return (self.key, self.distance, (), ())\n",
    "        elif self.left is None:\n",
    "            return (self.key, self.distance, (), self.right.print_helper())\n",
    "        elif self.right is None:\n",
    "            return (self.key, self.distance, self.left.print_helper(), ())\n",
    "        return (self.key, self.distance, self.left.print_helper(), self.right.print_helper())\n",
    "        \n",
    "    def print(self):\n",
    "        print(self.print_helper())"
   ]
  },
  {
   "cell_type": "code",
   "execution_count": 3,
   "metadata": {},
   "outputs": [
    {
     "name": "stdout",
     "output_type": "stream",
     "text": [
      "('W', 0, (), ())\n"
     ]
    }
   ],
   "source": [
    "a = TreeNode('W', 0, None, None)\n",
    "a.print()"
   ]
  },
  {
   "cell_type": "code",
   "execution_count": 4,
   "metadata": {},
   "outputs": [
    {
     "name": "stdout",
     "output_type": "stream",
     "text": [
      "('W_X', 0.5, ('W', 0, (), ()), ('X', 0, (), ()))\n"
     ]
    }
   ],
   "source": [
    "W = TreeNode('W', 0, None, None)\n",
    "X = TreeNode('X', 0, None, None)\n",
    "W_X = TreeNode('W_X', 0.5, W, X)\n",
    "W_X.print()"
   ]
  },
  {
   "cell_type": "code",
   "execution_count": 5,
   "metadata": {},
   "outputs": [
    {
     "name": "stdout",
     "output_type": "stream",
     "text": [
      "2 1 1\n"
     ]
    }
   ],
   "source": [
    "W = TreeNode('W', 0, None, None)\n",
    "X = TreeNode('X', 0, None, None)\n",
    "W_X = TreeNode('W_X', 0.5, W, X)\n",
    "print(W_X.leaves, W.leaves, X.leaves)"
   ]
  },
  {
   "cell_type": "markdown",
   "metadata": {},
   "source": [
    "### Write the following functions:\n",
    "#### 2. findClosestPair(Distances)\n",
    "* Inputs Distances dictionary and returns the key for the pair of nodes that are closest. For example, if the input is testDistances, the function returns (‘W’, ‘X’)."
   ]
  },
  {
   "cell_type": "code",
   "execution_count": 6,
   "metadata": {},
   "outputs": [],
   "source": [
    "def findClosestPair(distances):\n",
    "    \"\"\"\n",
    "    takes dictionary of distances and returns the key for the pair of nodes that are closest\n",
    "    :param distance: dictionary of distances\n",
    "    :return: key for the pair of nodes that are closest\n",
    "    \"\"\"\n",
    "    key_min = list(distances.keys())[0]\n",
    "    for key in distances:\n",
    "        if distances[key] < distances[key_min]:\n",
    "            key_min = key\n",
    "    return key_min"
   ]
  },
  {
   "cell_type": "code",
   "execution_count": 7,
   "metadata": {},
   "outputs": [
    {
     "name": "stdout",
     "output_type": "stream",
     "text": [
      "<class 'tuple'>\n",
      "('W', 'X')\n"
     ]
    }
   ],
   "source": [
    "print(type(findClosestPair(testDistances)))\n",
    "print(findClosestPair(testDistances))"
   ]
  },
  {
   "cell_type": "markdown",
   "metadata": {},
   "source": [
    "#### 3. updateDist(Distances, newNode)\n",
    "* Inputs Distances dictionary and a new tree node. Updates the Distances dictionary by adding the distances between newNode and all the other nodes. Does not calculate the distance between newNode and its children in the Distances. This function returns the updated Distances dictionary."
   ]
  },
  {
   "cell_type": "code",
   "execution_count": 8,
   "metadata": {},
   "outputs": [],
   "source": [
    "def calcDist(new_node, node, distances):\n",
    "    \"\"\"\n",
    "    calculates the distance between a newly made node and another node\n",
    "    :param new_node: new TreeNode\n",
    "    :param node: TreeNode\n",
    "    :param distances: dictionary containing all the distances of parentless nodes (aside from children of new node)\n",
    "    :return: distance between the new node and another node\n",
    "    \"\"\"\n",
    "    key = (new_node.key, node.key)\n",
    "    if key in distances:\n",
    "        return distances[key]\n",
    "    left = new_node.left\n",
    "    right = new_node.right\n",
    "    if node == left or node == right:\n",
    "        return distances[(left.key, right.key)] / 2\n",
    "    distance_left = distances[(left.key, node.key)] * left.leaves\n",
    "    distance_right = distances[(right.key, node.key)] * right.leaves\n",
    "    distance = (distance_left + distance_right) / new_node.leaves\n",
    "    return distance"
   ]
  },
  {
   "cell_type": "code",
   "execution_count": 9,
   "metadata": {},
   "outputs": [],
   "source": [
    "def updateDist(distances, new_node, nodes):\n",
    "    \"\"\"\n",
    "    updates the dictionary by adding the distances between the new node and all the other nodes\n",
    "    and removing old distances\n",
    "    :param distances: dictionary of distances\n",
    "    :param new_node: newly made TreeNode\n",
    "    :param nodes: dictionary that maps keys to TreeNodes that do not have parent\n",
    "    :return: updated dictionary\n",
    "    \"\"\"\n",
    "    left = new_node.left.key\n",
    "    right = new_node.right.key\n",
    "    \n",
    "    # add new distances\n",
    "    for key in nodes:\n",
    "        distance = calcDist(new_node, nodes[key], distances)\n",
    "        distances[(new_node.key, key)] = distance\n",
    "        distances[(key, new_node.key)] = distance\n",
    "    # remove old distances\n",
    "    keys = list(distances.keys())\n",
    "    for key in keys:\n",
    "        if new_node.key in key:\n",
    "            continue\n",
    "        if key[0] not in nodes or key[1] not in nodes:\n",
    "            del distances[key]\n",
    "    return distances"
   ]
  },
  {
   "cell_type": "code",
   "execution_count": 10,
   "metadata": {},
   "outputs": [
    {
     "name": "stdout",
     "output_type": "stream",
     "text": [
      "0.5\n"
     ]
    }
   ],
   "source": [
    "W = TreeNode('W', 0, None, None)\n",
    "X = TreeNode('X', 0, None, None)\n",
    "W_X = TreeNode('W_X', -1, W, X)\n",
    "dist_left = calcDist(W_X, W_X.left, testDistances)\n",
    "dist_right = calcDist(W_X, W_X.right, testDistances)\n",
    "assert dist_left == dist_right\n",
    "W_X.distance = dist_left\n",
    "print(W_X.distance)"
   ]
  },
  {
   "cell_type": "markdown",
   "metadata": {},
   "source": [
    "#### 4. upgma(Distances)\n",
    "* This function runs the UPGMA algorithm described in lecture. First, it initializes a list TreeNodesList with multiple new TreeNode referring to humansList (the list TreeNodesList should contain six TreeNodes). Then, it repeats the following steps until there is only one tree node left in the list TreeNodesList, at which point this tree is returned.\n",
    "\n",
    "    1. Find the key for the closest pair of nodes in Distances (use findClosestPair)\n",
    "    2. Create a new TreeNode and assign the pair of nodes stored in TreeNodesList as its children. Calculate the distance between the new TreeNode to its children and store the value in the new TreeNode.\n",
    "    3. Update the TreeNodesList by removing the pair of nodes referring to 1.\n",
    "    4. Update the Distances dictionary (use updateDist)\n",
    "    5. Add the new TreeNode into TreeNodesList."
   ]
  },
  {
   "cell_type": "code",
   "execution_count": 11,
   "metadata": {},
   "outputs": [],
   "source": [
    "def upgma(distances, leafList):\n",
    "    # dict for all the nodes that do not have a parent\n",
    "    # maps key to node\n",
    "    nodes = {}\n",
    "    # create TreeNodes for all leaf nodes\n",
    "    for leaf in leafList:\n",
    "        node = TreeNode(leaf, 0, None, None)\n",
    "        nodes[leaf] = node\n",
    "    # remove all distances to self\n",
    "    keys = list(distances.keys())\n",
    "    for key in keys:\n",
    "        if key[0] == key[1]:\n",
    "            del distances[key]\n",
    "    # add to tree using upgma until root reached\n",
    "    while len(nodes) > 1:\n",
    "        # instantiate new parent node\n",
    "        key_min = findClosestPair(distances)\n",
    "        key = '(' + key_min[0] + ',' + key_min[1] +')'\n",
    "        left = nodes[key_min[0]]\n",
    "        right = nodes[key_min[1]]\n",
    "        new_node = TreeNode(key, -1, left, right)\n",
    "        # calculate distance to children\n",
    "        dist_left = calcDist(new_node, new_node.left, distances)\n",
    "        dist_right = calcDist(new_node, new_node.right, distances)\n",
    "#         print(new_node.key, new_node.left.key, new_node.right.key, dist_left, dist_right)\n",
    "        assert dist_left == dist_right\n",
    "        new_node.distance = dist_left\n",
    "        # remove children from nodes dict\n",
    "        del nodes[key_min[0]]\n",
    "        del nodes[key_min[1]]\n",
    "        # get updated distances & remove distances of children\n",
    "        distances = updateDist(distances, new_node, nodes)\n",
    "        # add new node into nodes dict\n",
    "        nodes[key] = new_node\n",
    "#         print(nodes.keys())\n",
    "#         print(distances)\n",
    "    # return root\n",
    "    key_root = list(nodes.keys())[0]\n",
    "    return nodes[key_root]"
   ]
  },
  {
   "cell_type": "code",
   "execution_count": 12,
   "metadata": {},
   "outputs": [
    {
     "name": "stdout",
     "output_type": "stream",
     "text": [
      "('((Y,Z),(W,X))', 1.25, ('(Y,Z)', 0.5, ('Y', 0, (), ()), ('Z', 0, (), ())), ('(W,X)', 0.5, ('W', 0, (), ()), ('X', 0, (), ())))\n"
     ]
    }
   ],
   "source": [
    "root = upgma(testDistances, testList)\n",
    "root.print()"
   ]
  },
  {
   "cell_type": "markdown",
   "metadata": {},
   "source": [
    "### Use aforementioned functions to analyze human data:\n",
    "#### 5. Use upgma to generate one tree using humansList and humansDistances. Turn in your code, the output the code for humans, and explain what you find from the results"
   ]
  },
  {
   "cell_type": "code",
   "execution_count": 13,
   "metadata": {},
   "outputs": [
    {
     "name": "stdout",
     "output_type": "stream",
     "text": [
      "('(((((Finnish,Papuan),Han),Yoruba),Kikuyu),San)', 0.0026804, ('((((Finnish,Papuan),Han),Yoruba),Kikuyu)', 0.0023785, ('(((Finnish,Papuan),Han),Yoruba)', 0.0010831666666666665, ('((Finnish,Papuan),Han)', 0.0009215, ('(Finnish,Papuan)', 0.000656, ('Finnish', 0, (), ()), ('Papuan', 0, (), ())), ('Han', 0, (), ())), ('Yoruba', 0, (), ())), ('Kikuyu', 0, (), ())), ('San', 0, (), ()))\n"
     ]
    }
   ],
   "source": [
    "root = upgma(humansDistances, humansList)\n",
    "root.print()"
   ]
  },
  {
   "cell_type": "markdown",
   "metadata": {},
   "source": [
    "It seems like the Finnish and Papuan are the closest with Han, Yoruba, Kikuyu, and San following in that order. This is surprising since I would expect the different African people to be the closest where as people from different continents would differ the most."
   ]
  }
 ],
 "metadata": {
  "kernelspec": {
   "display_name": "Python 3",
   "language": "python",
   "name": "python3"
  },
  "language_info": {
   "codemirror_mode": {
    "name": "ipython",
    "version": 3
   },
   "file_extension": ".py",
   "mimetype": "text/x-python",
   "name": "python",
   "nbconvert_exporter": "python",
   "pygments_lexer": "ipython3",
   "version": "3.8.5"
  }
 },
 "nbformat": 4,
 "nbformat_minor": 4
}
