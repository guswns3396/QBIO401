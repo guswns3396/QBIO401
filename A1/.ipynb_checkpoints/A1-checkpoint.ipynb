{
 "cells": [
  {
   "cell_type": "markdown",
   "metadata": {},
   "source": [
    "### Hyun-Joon Yang\n",
    "### yanghyun@usc.edu\n",
    "### QBIO 401\n",
    "### Assignment 1"
   ]
  },
  {
   "cell_type": "markdown",
   "metadata": {},
   "source": [
    "#### 1. Write a Python function that takes as input a FASTA file and returns a sequence string"
   ]
  },
  {
   "cell_type": "code",
   "execution_count": 1,
   "metadata": {},
   "outputs": [],
   "source": [
    "def openFASTA(filename: str):\n",
    "    sequence = ''\n",
    "    with open(filename) as f:\n",
    "        for line in f:\n",
    "            # ignore whitespace\n",
    "            line = line.strip()\n",
    "            if line == '':\n",
    "                continue\n",
    "            # ignore headers & comments\n",
    "            if line[0] == '>' or line[0] == ';':\n",
    "                continue\n",
    "            # ignore end-sequence denotation\n",
    "            if line[-1] == '*':\n",
    "                sequence += line[:-1]\n",
    "            else:\n",
    "                sequence += line\n",
    "    return sequence"
   ]
  },
  {
   "cell_type": "markdown",
   "metadata": {},
   "source": [
    "#### 2. Write a Python function that takes as input a sequence string and returns a list with 4 entries that are the number of A, C, G, and T in the sequence"
   ]
  },
  {
   "cell_type": "code",
   "execution_count": 2,
   "metadata": {},
   "outputs": [],
   "source": [
    "def countACGT(sequence: str):\n",
    "    result = {'A': 0, 'C': 0, 'G': 0, 'T': 0}\n",
    "    for base in sequence:\n",
    "        if base in result:\n",
    "            result[base] += 1\n",
    "    return result"
   ]
  },
  {
   "cell_type": "markdown",
   "metadata": {},
   "source": [
    "#### 3. Write a Python function that takes two inputs: a sequence string and a string of two letters (e.g., “CG” or “CT”). This function returns the number of times the two letters occur consecutively in the sequence"
   ]
  },
  {
   "cell_type": "code",
   "execution_count": 3,
   "metadata": {},
   "outputs": [],
   "source": [
    "def countSubstring(sequence: str, substr: str):\n",
    "    n = len(sequence)\n",
    "    k = len(substr)\n",
    "    count = 0\n",
    "    if n < k:\n",
    "        return 0\n",
    "    if k == 0:\n",
    "        return 0\n",
    "    for i in range(n-k+1):\n",
    "        if sequence[i:i+k] == substr:\n",
    "            count += 1\n",
    "    return count"
   ]
  },
  {
   "cell_type": "markdown",
   "metadata": {},
   "source": [
    "#### 4. For each of the two FASTA files, print the output of function #2 and function #3 with input “CG”. Compare the results and describe your finding"
   ]
  },
  {
   "cell_type": "code",
   "execution_count": 6,
   "metadata": {},
   "outputs": [],
   "source": [
    "seq_homo = openFASTA('homo.fasta')\n",
    "seq_dros = openFASTA('drosophila.fasta')"
   ]
  },
  {
   "cell_type": "code",
   "execution_count": 7,
   "metadata": {},
   "outputs": [
    {
     "name": "stdout",
     "output_type": "stream",
     "text": [
      "{'A': 1773, 'C': 1139, 'G': 1410, 'T': 1751}\n",
      "{'A': 2395, 'C': 1876, 'G': 1675, 'T': 1718}\n"
     ]
    }
   ],
   "source": [
    "print(countACGT(seq_homo))\n",
    "print(countACGT(seq_dros))"
   ]
  },
  {
   "cell_type": "code",
   "execution_count": 8,
   "metadata": {},
   "outputs": [
    {
     "name": "stdout",
     "output_type": "stream",
     "text": [
      "99\n",
      "455\n"
     ]
    }
   ],
   "source": [
    "print(countSubstring(seq_homo, 'CG'))\n",
    "print(countSubstring(seq_dros, 'CG'))"
   ]
  },
  {
   "cell_type": "markdown",
   "metadata": {},
   "source": [
    "It seems the genetic orthologue of drosophila is longer than that of humans, although the number of Thymine in each is relatively similar. Also, the dinucleotide 'CG' appears in dorsophila gene a lot more than it does in the homo sapiens one."
   ]
  },
  {
   "cell_type": "markdown",
   "metadata": {},
   "source": [
    "#### 5. Write another Python function that takes as input a sequence string and returns a list with 16 entries that are the outputs of function #3 for all 16 possible two letter strings"
   ]
  },
  {
   "cell_type": "code",
   "execution_count": 4,
   "metadata": {},
   "outputs": [],
   "source": [
    "def countAllSubstrings(sequence: str):\n",
    "    result = {}\n",
    "    substrs = []\n",
    "    for i in 'ACGT':\n",
    "        for j in 'ACGT':\n",
    "            substrs.append(i + j)\n",
    "    for substr in substrs:\n",
    "        result[substr] = countSubstring(sequence, substr)\n",
    "    return result"
   ]
  },
  {
   "cell_type": "markdown",
   "metadata": {},
   "source": [
    "#### TESTS"
   ]
  },
  {
   "cell_type": "code",
   "execution_count": 5,
   "metadata": {},
   "outputs": [
    {
     "name": "stderr",
     "output_type": "stream",
     "text": [
      "................."
     ]
    },
    {
     "name": "stdout",
     "output_type": "stream",
     "text": [
      "{'AA': 0, 'AC': 0, 'AG': 0, 'AT': 0, 'CA': 0, 'CC': 0, 'CG': 0, 'CT': 0, 'GA': 0, 'GC': 0, 'GG': 0, 'GT': 0, 'TA': 0, 'TC': 0, 'TG': 0, 'TT': 0}\n"
     ]
    },
    {
     "name": "stderr",
     "output_type": "stream",
     "text": [
      "\n",
      "----------------------------------------------------------------------\n",
      "Ran 17 tests in 0.037s\n",
      "\n",
      "OK\n"
     ]
    },
    {
     "data": {
      "text/plain": [
       "<unittest.main.TestProgram at 0x186b6ff3f98>"
      ]
     },
     "execution_count": 5,
     "metadata": {},
     "output_type": "execute_result"
    }
   ],
   "source": [
    "import unittest\n",
    "\n",
    "class Test_openFASTA(unittest.TestCase):\n",
    "    def setUp(self):\n",
    "        fasta = \">MCHU - Calmodulin - Human, rabbit, bovine, rat, and chicken\\n\"\n",
    "        fasta += \"; a sample sequence in FASTA format\\n\"\n",
    "        fasta += \"ADQLTEEQIAEFKEAFSLFDKDGDGTITTKELGTVMRSLGQNPTEAELQDMINEVDADGNGTID\\n\"\n",
    "        fasta += \"FPEFLTMMARKMKDTDSEEEIREAFRVFDKDGNGYISAAELRHVMTNLGEKLTDEEVDEMIREA\\n\"\n",
    "        fasta += \"DIDGDGQVNYEEFVQMMTAK*\\n\\n\"\n",
    "        with open('test.fasta', 'w') as f:\n",
    "            f.write(fasta)\n",
    "        \n",
    "    def test_ignoresHeader(self):\n",
    "        header = \">MCHU - Calmodulin - Human, rabbit, bovine, rat, and chicken\"\n",
    "        sequence = openFASTA('test.fasta')\n",
    "        self.assertFalse(header in sequence)\n",
    "    \n",
    "    def test_ignoresComments(self):\n",
    "        comment = \"; a sample sequence in FASTA format\"\n",
    "        sequence = openFASTA('test.fasta')\n",
    "        self.assertFalse(comment in sequence)\n",
    "    \n",
    "    def test_ignoresAsterisk(self):\n",
    "        sequence = openFASTA('test.fasta')\n",
    "        self.assertTrue(sequence[-1] != '*')\n",
    "    \n",
    "    def test_ignoresNewline(self):\n",
    "        sequence = openFASTA('test.fasta')\n",
    "        self.assertTrue('\\n' not in sequence)\n",
    "    \n",
    "    def test_getsCorrectSequence(self):\n",
    "        expected = 'ADQLTEEQIAEFKEAFSLFDKDGDGTITTKELGTVMRSLGQNPTEAELQDMINEVDADGNGTID'\n",
    "        expected += 'FPEFLTMMARKMKDTDSEEEIREAFRVFDKDGNGYISAAELRHVMTNLGEKLTDEEVDEMIREA'\n",
    "        expected += 'DIDGDGQVNYEEFVQMMTAK'\n",
    "        sequence = openFASTA('test.fasta')\n",
    "        self.assertEqual(expected, sequence)\n",
    "\n",
    "class Test_countACGT(unittest.TestCase):\n",
    "    def test_default(self):\n",
    "        seq = 'ATGC'\n",
    "        output = countACGT(seq)\n",
    "        expected = {'A': 1, 'T': 1, 'G': 1, 'C': 1}\n",
    "        self.assertEqual(expected, output)\n",
    "    \n",
    "    def test_long(self):\n",
    "        seq = 'ATGCATGCTAGCTGATCGTGCGCTGTCGATCGATGCTAGCTATGCTGATCGATGCTAGGTAG'\n",
    "        output = countACGT(seq)\n",
    "        expected = {'A': 12, 'T': 18, 'G': 19, 'C': 13}\n",
    "        self.assertEqual(expected, output)\n",
    "        \n",
    "    def test_unknownBase(self):\n",
    "        seq = 'ABCDEFG'\n",
    "        output = countACGT(seq)\n",
    "        expected = {'A': 1, 'T': 0, 'G': 1, 'C': 1}\n",
    "        self.assertEqual(expected, output)\n",
    "    \n",
    "    def test_blank(self):\n",
    "        seq = ''\n",
    "        output = countACGT(seq)\n",
    "        expected = {'A': 0, 'T': 0, 'G': 0, 'C': 0}\n",
    "        self.assertEqual(expected, output)\n",
    "        \n",
    "class Test_countSubstring(unittest.TestCase):\n",
    "    def test_blankSubsequence(self):\n",
    "        seq = 'ATGC'\n",
    "        sub = ''\n",
    "        output = countSubstring(seq, sub)\n",
    "        expected = 0\n",
    "        self.assertEqual(expected, output)\n",
    "    \n",
    "    def test_blankInputs(self):\n",
    "        seq = ''\n",
    "        sub = ''\n",
    "        output = countSubstring(seq, sub)\n",
    "        expected = 0\n",
    "        self.assertEqual(expected, output)\n",
    "    \n",
    "    def test_SubsequenceLongerThanSequence(self):\n",
    "        seq = 'AT'\n",
    "        sub = 'ATGC'\n",
    "        output = countSubstring(seq, sub)\n",
    "        expected = 0\n",
    "        self.assertEqual(expected, output)\n",
    "    \n",
    "    def test_default(self):\n",
    "        seq = 'ATGC' * 5\n",
    "        sub = 'TG'\n",
    "        output = countSubstring(seq, sub)\n",
    "        expected = 5\n",
    "        self.assertEqual(expected, output)\n",
    "    \n",
    "    def test_noAppearance(self):\n",
    "        seq = 'ATGC' * 5\n",
    "        sub = 'CG'\n",
    "        output = countSubstring(seq, sub)\n",
    "        expected = 0\n",
    "        self.assertEqual(expected, output)\n",
    "    \n",
    "    def test_long(self):\n",
    "        seq = 'ATGCCGATATATTGCTCGGCTAGCTAAGCTAG'\n",
    "        sub = 'AG'\n",
    "        output = countSubstring(seq, sub)\n",
    "        expected = 3\n",
    "        self.assertEqual(expected, output)\n",
    "        \n",
    "    def test_sameLetters(self):\n",
    "        seq = 'AAAAACAAACC'\n",
    "        sub = 'AA'\n",
    "        output = countSubstring(seq, sub)\n",
    "        expected = 6\n",
    "        self.assertEqual(expected, output)\n",
    "        \n",
    "class Test_countAllSubstrings(unittest.TestCase):\n",
    "    def test_hasAllCombinations(self):\n",
    "        output = countAllSubstrings('')\n",
    "        print(output)\n",
    "        self.assertEqual(16, len(output))\n",
    "        \n",
    "unittest.main(argv=[''], exit=False)"
   ]
  }
 ],
 "metadata": {
  "kernelspec": {
   "display_name": "Python 3",
   "language": "python",
   "name": "python3"
  },
  "language_info": {
   "codemirror_mode": {
    "name": "ipython",
    "version": 3
   },
   "file_extension": ".py",
   "mimetype": "text/x-python",
   "name": "python",
   "nbconvert_exporter": "python",
   "pygments_lexer": "ipython3",
   "version": "3.7.3"
  }
 },
 "nbformat": 4,
 "nbformat_minor": 2
}
