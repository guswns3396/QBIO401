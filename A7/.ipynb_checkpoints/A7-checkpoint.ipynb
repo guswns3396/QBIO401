{
 "cells": [
  {
   "cell_type": "markdown",
   "metadata": {},
   "source": [
    "### Hyun-Joon Yang\n",
    "### yanghyun@usc.edu\n",
    "### QBIO 401\n",
    "### Assignment 7"
   ]
  },
  {
   "cell_type": "markdown",
   "metadata": {},
   "source": [
    "On Blackboard, you can find two files: “beforerain.bracken” and “afterrain.bracken”. The data in the first file is the sample from LA River before rain on a certain day, and the second file is the sample from the same river few days later after rain.\n",
    "\n",
    "These files are outputs from the Bracken program."
   ]
  },
  {
   "cell_type": "code",
   "execution_count": 1,
   "metadata": {},
   "outputs": [],
   "source": [
    "rm(list=ls())"
   ]
  },
  {
   "cell_type": "code",
   "execution_count": 2,
   "metadata": {},
   "outputs": [
    {
     "data": {
      "text/html": [
       "<table>\n",
       "<thead><tr><th scope=col>name</th><th scope=col>taxonomy_id</th><th scope=col>taxonomy_lvl</th><th scope=col>kraken_assigned_reads</th><th scope=col>added_reads</th><th scope=col>new_est_reads</th><th scope=col>fraction_total_reads</th></tr></thead>\n",
       "<tbody>\n",
       "\t<tr><td>Streptococcus sp. oral taxon 431</td><td> 712633                         </td><td>S                               </td><td> 46                             </td><td> 10                             </td><td> 56                             </td><td>0.00001                         </td></tr>\n",
       "\t<tr><td>Neorhizobium sp. NCHU2750       </td><td>1825976                         </td><td>S                               </td><td>581                             </td><td>132                             </td><td>713                             </td><td>0.00014                         </td></tr>\n",
       "\t<tr><td>Pseudomonas sp. MT-1            </td><td> 150396                         </td><td>S                               </td><td>109                             </td><td>233                             </td><td>342                             </td><td>0.00007                         </td></tr>\n",
       "\t<tr><td>Ahniella affigens               </td><td>2021234                         </td><td>S                               </td><td>489                             </td><td>  6                             </td><td>495                             </td><td>0.00010                         </td></tr>\n",
       "\t<tr><td>Sinorhizobium sp. CCBAU 05631   </td><td> 794846                         </td><td>S                               </td><td> 81                             </td><td> 96                             </td><td>177                             </td><td>0.00004                         </td></tr>\n",
       "\t<tr><td>Cohnella sp. 18JY8-7            </td><td>2480923                         </td><td>S                               </td><td>162                             </td><td>  4                             </td><td>166                             </td><td>0.00003                         </td></tr>\n",
       "</tbody>\n",
       "</table>\n"
      ],
      "text/latex": [
       "\\begin{tabular}{r|lllllll}\n",
       " name & taxonomy\\_id & taxonomy\\_lvl & kraken\\_assigned\\_reads & added\\_reads & new\\_est\\_reads & fraction\\_total\\_reads\\\\\n",
       "\\hline\n",
       "\t Streptococcus sp. oral taxon 431 &  712633                          & S                                &  46                              &  10                              &  56                              & 0.00001                         \\\\\n",
       "\t Neorhizobium sp. NCHU2750        & 1825976                          & S                                & 581                              & 132                              & 713                              & 0.00014                         \\\\\n",
       "\t Pseudomonas sp. MT-1             &  150396                          & S                                & 109                              & 233                              & 342                              & 0.00007                         \\\\\n",
       "\t Ahniella affigens                & 2021234                          & S                                & 489                              &   6                              & 495                              & 0.00010                         \\\\\n",
       "\t Sinorhizobium sp. CCBAU 05631    &  794846                          & S                                &  81                              &  96                              & 177                              & 0.00004                         \\\\\n",
       "\t Cohnella sp. 18JY8-7             & 2480923                          & S                                & 162                              &   4                              & 166                              & 0.00003                         \\\\\n",
       "\\end{tabular}\n"
      ],
      "text/markdown": [
       "\n",
       "| name | taxonomy_id | taxonomy_lvl | kraken_assigned_reads | added_reads | new_est_reads | fraction_total_reads |\n",
       "|---|---|---|---|---|---|---|\n",
       "| Streptococcus sp. oral taxon 431 |  712633                          | S                                |  46                              |  10                              |  56                              | 0.00001                          |\n",
       "| Neorhizobium sp. NCHU2750        | 1825976                          | S                                | 581                              | 132                              | 713                              | 0.00014                          |\n",
       "| Pseudomonas sp. MT-1             |  150396                          | S                                | 109                              | 233                              | 342                              | 0.00007                          |\n",
       "| Ahniella affigens                | 2021234                          | S                                | 489                              |   6                              | 495                              | 0.00010                          |\n",
       "| Sinorhizobium sp. CCBAU 05631    |  794846                          | S                                |  81                              |  96                              | 177                              | 0.00004                          |\n",
       "| Cohnella sp. 18JY8-7             | 2480923                          | S                                | 162                              |   4                              | 166                              | 0.00003                          |\n",
       "\n"
      ],
      "text/plain": [
       "  name                             taxonomy_id taxonomy_lvl\n",
       "1 Streptococcus sp. oral taxon 431  712633     S           \n",
       "2 Neorhizobium sp. NCHU2750        1825976     S           \n",
       "3 Pseudomonas sp. MT-1              150396     S           \n",
       "4 Ahniella affigens                2021234     S           \n",
       "5 Sinorhizobium sp. CCBAU 05631     794846     S           \n",
       "6 Cohnella sp. 18JY8-7             2480923     S           \n",
       "  kraken_assigned_reads added_reads new_est_reads fraction_total_reads\n",
       "1  46                    10          56           0.00001             \n",
       "2 581                   132         713           0.00014             \n",
       "3 109                   233         342           0.00007             \n",
       "4 489                     6         495           0.00010             \n",
       "5  81                    96         177           0.00004             \n",
       "6 162                     4         166           0.00003             "
      ]
     },
     "metadata": {},
     "output_type": "display_data"
    },
    {
     "data": {
      "text/html": [
       "<ol class=list-inline>\n",
       "\t<li>4126</li>\n",
       "\t<li>7</li>\n",
       "</ol>\n"
      ],
      "text/latex": [
       "\\begin{enumerate*}\n",
       "\\item 4126\n",
       "\\item 7\n",
       "\\end{enumerate*}\n"
      ],
      "text/markdown": [
       "1. 4126\n",
       "2. 7\n",
       "\n",
       "\n"
      ],
      "text/plain": [
       "[1] 4126    7"
      ]
     },
     "metadata": {},
     "output_type": "display_data"
    },
    {
     "data": {
      "text/html": [
       "<table>\n",
       "<thead><tr><th scope=col>name</th><th scope=col>taxonomy_id</th><th scope=col>taxonomy_lvl</th><th scope=col>kraken_assigned_reads</th><th scope=col>added_reads</th><th scope=col>new_est_reads</th><th scope=col>fraction_total_reads</th></tr></thead>\n",
       "<tbody>\n",
       "\t<tr><td>Streptococcus sp. oral taxon 431</td><td> 712633                         </td><td>S                               </td><td> 20                             </td><td>  4                             </td><td>  24                            </td><td>0.00001                         </td></tr>\n",
       "\t<tr><td>Neorhizobium sp. NCHU2750       </td><td>1825976                         </td><td>S                               </td><td>860                             </td><td>196                             </td><td>1056                            </td><td>0.00022                         </td></tr>\n",
       "\t<tr><td>Pseudomonas sp. MT-1            </td><td> 150396                         </td><td>S                               </td><td>100                             </td><td>195                             </td><td> 295                            </td><td>0.00006                         </td></tr>\n",
       "\t<tr><td>Ahniella affigens               </td><td>2021234                         </td><td>S                               </td><td>549                             </td><td>  7                             </td><td> 556                            </td><td>0.00011                         </td></tr>\n",
       "\t<tr><td>Sinorhizobium sp. CCBAU 05631   </td><td> 794846                         </td><td>S                               </td><td> 72                             </td><td> 83                             </td><td> 155                            </td><td>0.00003                         </td></tr>\n",
       "\t<tr><td>Cohnella sp. 18JY8-7            </td><td>2480923                         </td><td>S                               </td><td>216                             </td><td>  7                             </td><td> 223                            </td><td>0.00005                         </td></tr>\n",
       "</tbody>\n",
       "</table>\n"
      ],
      "text/latex": [
       "\\begin{tabular}{r|lllllll}\n",
       " name & taxonomy\\_id & taxonomy\\_lvl & kraken\\_assigned\\_reads & added\\_reads & new\\_est\\_reads & fraction\\_total\\_reads\\\\\n",
       "\\hline\n",
       "\t Streptococcus sp. oral taxon 431 &  712633                          & S                                &  20                              &   4                              &   24                             & 0.00001                         \\\\\n",
       "\t Neorhizobium sp. NCHU2750        & 1825976                          & S                                & 860                              & 196                              & 1056                             & 0.00022                         \\\\\n",
       "\t Pseudomonas sp. MT-1             &  150396                          & S                                & 100                              & 195                              &  295                             & 0.00006                         \\\\\n",
       "\t Ahniella affigens                & 2021234                          & S                                & 549                              &   7                              &  556                             & 0.00011                         \\\\\n",
       "\t Sinorhizobium sp. CCBAU 05631    &  794846                          & S                                &  72                              &  83                              &  155                             & 0.00003                         \\\\\n",
       "\t Cohnella sp. 18JY8-7             & 2480923                          & S                                & 216                              &   7                              &  223                             & 0.00005                         \\\\\n",
       "\\end{tabular}\n"
      ],
      "text/markdown": [
       "\n",
       "| name | taxonomy_id | taxonomy_lvl | kraken_assigned_reads | added_reads | new_est_reads | fraction_total_reads |\n",
       "|---|---|---|---|---|---|---|\n",
       "| Streptococcus sp. oral taxon 431 |  712633                          | S                                |  20                              |   4                              |   24                             | 0.00001                          |\n",
       "| Neorhizobium sp. NCHU2750        | 1825976                          | S                                | 860                              | 196                              | 1056                             | 0.00022                          |\n",
       "| Pseudomonas sp. MT-1             |  150396                          | S                                | 100                              | 195                              |  295                             | 0.00006                          |\n",
       "| Ahniella affigens                | 2021234                          | S                                | 549                              |   7                              |  556                             | 0.00011                          |\n",
       "| Sinorhizobium sp. CCBAU 05631    |  794846                          | S                                |  72                              |  83                              |  155                             | 0.00003                          |\n",
       "| Cohnella sp. 18JY8-7             | 2480923                          | S                                | 216                              |   7                              |  223                             | 0.00005                          |\n",
       "\n"
      ],
      "text/plain": [
       "  name                             taxonomy_id taxonomy_lvl\n",
       "1 Streptococcus sp. oral taxon 431  712633     S           \n",
       "2 Neorhizobium sp. NCHU2750        1825976     S           \n",
       "3 Pseudomonas sp. MT-1              150396     S           \n",
       "4 Ahniella affigens                2021234     S           \n",
       "5 Sinorhizobium sp. CCBAU 05631     794846     S           \n",
       "6 Cohnella sp. 18JY8-7             2480923     S           \n",
       "  kraken_assigned_reads added_reads new_est_reads fraction_total_reads\n",
       "1  20                     4           24          0.00001             \n",
       "2 860                   196         1056          0.00022             \n",
       "3 100                   195          295          0.00006             \n",
       "4 549                     7          556          0.00011             \n",
       "5  72                    83          155          0.00003             \n",
       "6 216                     7          223          0.00005             "
      ]
     },
     "metadata": {},
     "output_type": "display_data"
    },
    {
     "data": {
      "text/html": [
       "<ol class=list-inline>\n",
       "\t<li>4260</li>\n",
       "\t<li>7</li>\n",
       "</ol>\n"
      ],
      "text/latex": [
       "\\begin{enumerate*}\n",
       "\\item 4260\n",
       "\\item 7\n",
       "\\end{enumerate*}\n"
      ],
      "text/markdown": [
       "1. 4260\n",
       "2. 7\n",
       "\n",
       "\n"
      ],
      "text/plain": [
       "[1] 4260    7"
      ]
     },
     "metadata": {},
     "output_type": "display_data"
    }
   ],
   "source": [
    "data1 <- read.table('beforerain.bracken', header=T, sep='\\t', stringsAsFactors=F)\n",
    "head(data1)\n",
    "dim(data1)\n",
    "data2 <- read.table('afterrain.bracken', header=T, sep='\\t', stringsAsFactors=F)\n",
    "head(data2)\n",
    "dim(data2)"
   ]
  },
  {
   "cell_type": "code",
   "execution_count": 3,
   "metadata": {},
   "outputs": [],
   "source": [
    "rm(data1, data2)"
   ]
  },
  {
   "cell_type": "markdown",
   "metadata": {},
   "source": [
    "#### 1. Write an R program that takes as input one of these files and a threshold, and returns all “names” (1st column) and “fractions” (7th column) of those rows where the fraction is greater than the threshold. Run the program for each file with threshold 0.01 [2pt]."
   ]
  },
  {
   "cell_type": "code",
   "execution_count": 4,
   "metadata": {},
   "outputs": [],
   "source": [
    "get_by_threshold <- function(filename, threshold) {\n",
    "    # read table\n",
    "    mydata <- read.table(filename, header=T, sep='\\t', stringsAsFactors=F)\n",
    "    # extract names and fractions by threshold\n",
    "    mydata <- mydata[mydata$fraction_total_reads >= 0.01, c('name', 'fraction_total_reads')]\n",
    "    # rename columns\n",
    "    mydata <- data.frame('names'=mydata$name, 'fractions'=mydata$fraction_total_reads)\n",
    "    return(mydata)\n",
    "}"
   ]
  },
  {
   "cell_type": "code",
   "execution_count": 5,
   "metadata": {},
   "outputs": [],
   "source": [
    "threshold <- 0.01\n",
    "\n",
    "before <- get_by_threshold('beforerain.bracken', threshold)\n",
    "after <- get_by_threshold('afterrain.bracken', threshold)"
   ]
  },
  {
   "cell_type": "code",
   "execution_count": 6,
   "metadata": {},
   "outputs": [
    {
     "data": {
      "text/html": [
       "<table>\n",
       "<thead><tr><th scope=col>names</th><th scope=col>fractions</th></tr></thead>\n",
       "<tbody>\n",
       "\t<tr><td>Polynucleobacter acidiphobus</td><td>0.01528                     </td></tr>\n",
       "\t<tr><td>Homo sapiens                </td><td>0.01831                     </td></tr>\n",
       "\t<tr><td>Limnohabitans sp. 63ED37-2  </td><td>0.11301                     </td></tr>\n",
       "\t<tr><td>Limnohabitans sp. 103DPR2   </td><td>0.01286                     </td></tr>\n",
       "\t<tr><td>Polynucleobacter necessarius</td><td>0.02691                     </td></tr>\n",
       "\t<tr><td>Hydrogenophaga sp. RAC07    </td><td>0.01211                     </td></tr>\n",
       "\t<tr><td>Cloacibacterium normanense  </td><td>0.02526                     </td></tr>\n",
       "\t<tr><td>beta proteobacterium CB     </td><td>0.02466                     </td></tr>\n",
       "</tbody>\n",
       "</table>\n"
      ],
      "text/latex": [
       "\\begin{tabular}{r|ll}\n",
       " names & fractions\\\\\n",
       "\\hline\n",
       "\t Polynucleobacter acidiphobus & 0.01528                     \\\\\n",
       "\t Homo sapiens                 & 0.01831                     \\\\\n",
       "\t Limnohabitans sp. 63ED37-2   & 0.11301                     \\\\\n",
       "\t Limnohabitans sp. 103DPR2    & 0.01286                     \\\\\n",
       "\t Polynucleobacter necessarius & 0.02691                     \\\\\n",
       "\t Hydrogenophaga sp. RAC07     & 0.01211                     \\\\\n",
       "\t Cloacibacterium normanense   & 0.02526                     \\\\\n",
       "\t beta proteobacterium CB      & 0.02466                     \\\\\n",
       "\\end{tabular}\n"
      ],
      "text/markdown": [
       "\n",
       "| names | fractions |\n",
       "|---|---|\n",
       "| Polynucleobacter acidiphobus | 0.01528                      |\n",
       "| Homo sapiens                 | 0.01831                      |\n",
       "| Limnohabitans sp. 63ED37-2   | 0.11301                      |\n",
       "| Limnohabitans sp. 103DPR2    | 0.01286                      |\n",
       "| Polynucleobacter necessarius | 0.02691                      |\n",
       "| Hydrogenophaga sp. RAC07     | 0.01211                      |\n",
       "| Cloacibacterium normanense   | 0.02526                      |\n",
       "| beta proteobacterium CB      | 0.02466                      |\n",
       "\n"
      ],
      "text/plain": [
       "  names                        fractions\n",
       "1 Polynucleobacter acidiphobus 0.01528  \n",
       "2 Homo sapiens                 0.01831  \n",
       "3 Limnohabitans sp. 63ED37-2   0.11301  \n",
       "4 Limnohabitans sp. 103DPR2    0.01286  \n",
       "5 Polynucleobacter necessarius 0.02691  \n",
       "6 Hydrogenophaga sp. RAC07     0.01211  \n",
       "7 Cloacibacterium normanense   0.02526  \n",
       "8 beta proteobacterium CB      0.02466  "
      ]
     },
     "metadata": {},
     "output_type": "display_data"
    }
   ],
   "source": [
    "before"
   ]
  },
  {
   "cell_type": "code",
   "execution_count": 7,
   "metadata": {},
   "outputs": [
    {
     "data": {
      "text/html": [
       "<table>\n",
       "<thead><tr><th scope=col>names</th><th scope=col>fractions</th></tr></thead>\n",
       "<tbody>\n",
       "\t<tr><td>Curvibacter sp. AEP1-3      </td><td>0.01170                     </td></tr>\n",
       "\t<tr><td>Polynucleobacter acidiphobus</td><td>0.01099                     </td></tr>\n",
       "\t<tr><td>Homo sapiens                </td><td>0.01187                     </td></tr>\n",
       "\t<tr><td>Limnohabitans sp. 63ED37-2  </td><td>0.05251                     </td></tr>\n",
       "\t<tr><td>Limnohabitans sp. 103DPR2   </td><td>0.01398                     </td></tr>\n",
       "\t<tr><td>Polynucleobacter necessarius</td><td>0.01792                     </td></tr>\n",
       "\t<tr><td>Hydrogenophaga sp. RAC07    </td><td>0.01938                     </td></tr>\n",
       "\t<tr><td>Cloacibacterium normanense  </td><td>0.01177                     </td></tr>\n",
       "\t<tr><td>Acidovorax sp. T1           </td><td>0.01068                     </td></tr>\n",
       "</tbody>\n",
       "</table>\n"
      ],
      "text/latex": [
       "\\begin{tabular}{r|ll}\n",
       " names & fractions\\\\\n",
       "\\hline\n",
       "\t Curvibacter sp. AEP1-3       & 0.01170                     \\\\\n",
       "\t Polynucleobacter acidiphobus & 0.01099                     \\\\\n",
       "\t Homo sapiens                 & 0.01187                     \\\\\n",
       "\t Limnohabitans sp. 63ED37-2   & 0.05251                     \\\\\n",
       "\t Limnohabitans sp. 103DPR2    & 0.01398                     \\\\\n",
       "\t Polynucleobacter necessarius & 0.01792                     \\\\\n",
       "\t Hydrogenophaga sp. RAC07     & 0.01938                     \\\\\n",
       "\t Cloacibacterium normanense   & 0.01177                     \\\\\n",
       "\t Acidovorax sp. T1            & 0.01068                     \\\\\n",
       "\\end{tabular}\n"
      ],
      "text/markdown": [
       "\n",
       "| names | fractions |\n",
       "|---|---|\n",
       "| Curvibacter sp. AEP1-3       | 0.01170                      |\n",
       "| Polynucleobacter acidiphobus | 0.01099                      |\n",
       "| Homo sapiens                 | 0.01187                      |\n",
       "| Limnohabitans sp. 63ED37-2   | 0.05251                      |\n",
       "| Limnohabitans sp. 103DPR2    | 0.01398                      |\n",
       "| Polynucleobacter necessarius | 0.01792                      |\n",
       "| Hydrogenophaga sp. RAC07     | 0.01938                      |\n",
       "| Cloacibacterium normanense   | 0.01177                      |\n",
       "| Acidovorax sp. T1            | 0.01068                      |\n",
       "\n"
      ],
      "text/plain": [
       "  names                        fractions\n",
       "1 Curvibacter sp. AEP1-3       0.01170  \n",
       "2 Polynucleobacter acidiphobus 0.01099  \n",
       "3 Homo sapiens                 0.01187  \n",
       "4 Limnohabitans sp. 63ED37-2   0.05251  \n",
       "5 Limnohabitans sp. 103DPR2    0.01398  \n",
       "6 Polynucleobacter necessarius 0.01792  \n",
       "7 Hydrogenophaga sp. RAC07     0.01938  \n",
       "8 Cloacibacterium normanense   0.01177  \n",
       "9 Acidovorax sp. T1            0.01068  "
      ]
     },
     "metadata": {},
     "output_type": "display_data"
    }
   ],
   "source": [
    "after"
   ]
  },
  {
   "cell_type": "markdown",
   "metadata": {},
   "source": [
    "#### 2. Write an R program that takes as input both of these files and a number n, and returns the “names” and “fractions” (the fractions in both files) for the n names with the greatest absolute difference in fractions between the two files. Note: some names might be present in one file but absent (not even listed) in the other file. The fraction for the name not listed in the file is zero. Run the program with the number n equal to 10 [3pt]."
   ]
  },
  {
   "cell_type": "code",
   "execution_count": 8,
   "metadata": {},
   "outputs": [],
   "source": [
    "get_by_difference <- function(file1, file2, n) {\n",
    "    # read files\n",
    "    data1 <- read.table(file1, header=T, sep='\\t', stringsAsFactors=F)\n",
    "    data2 <- read.table(file2, header=T, sep='\\t', stringsAsFactors=F)\n",
    "    # find names that are in both files\n",
    "    names <- intersect(data1$name, data2$name)\n",
    "    # get difference\n",
    "    diff <- vector()\n",
    "    for(i in names) {\n",
    "        x <- data1[data1$name == i, 'fraction_total_reads']\n",
    "        y <- data2[data2$name == i, 'fraction_total_reads']\n",
    "        diff <- c(diff, abs(x-y))\n",
    "    }\n",
    "    # create data frame\n",
    "    output <- data.frame(names=names, diff=diff)\n",
    "    # get entries with largest differences\n",
    "    orders <- order(output$diff, decreasing=T)\n",
    "    return(output[orders[1:n],])\n",
    "}"
   ]
  },
  {
   "cell_type": "code",
   "execution_count": 9,
   "metadata": {},
   "outputs": [
    {
     "data": {
      "text/html": [
       "<table>\n",
       "<thead><tr><th></th><th scope=col>names</th><th scope=col>diff</th></tr></thead>\n",
       "<tbody>\n",
       "\t<tr><th scope=row>1103</th><td>Limnohabitans sp. 63ED37-2       </td><td>0.06050                          </td></tr>\n",
       "\t<tr><th scope=row>2043</th><td>Cloacibacterium normanense       </td><td>0.01349                          </td></tr>\n",
       "\t<tr><th scope=row>1587</th><td>Polynucleobacter necessarius     </td><td>0.00899                          </td></tr>\n",
       "\t<tr><th scope=row>150</th><td>Curvibacter sp. AEP1-3           </td><td>0.00892                          </td></tr>\n",
       "\t<tr><th scope=row>1986</th><td>Hydrogenophaga sp. RAC07         </td><td>0.00727                          </td></tr>\n",
       "\t<tr><th scope=row>1038</th><td>Homo sapiens                     </td><td>0.00644                          </td></tr>\n",
       "\t<tr><th scope=row>949</th><td>Candidatus Planktophila sulfonica</td><td>0.00544                          </td></tr>\n",
       "\t<tr><th scope=row>876</th><td>Polynucleobacter acidiphobus     </td><td>0.00429                          </td></tr>\n",
       "\t<tr><th scope=row>490</th><td>Polynucleobacter difficilis      </td><td>0.00399                          </td></tr>\n",
       "\t<tr><th scope=row>1015</th><td>Acidovorax sp. KKS102            </td><td>0.00381                          </td></tr>\n",
       "</tbody>\n",
       "</table>\n"
      ],
      "text/latex": [
       "\\begin{tabular}{r|ll}\n",
       "  & names & diff\\\\\n",
       "\\hline\n",
       "\t1103 & Limnohabitans sp. 63ED37-2        & 0.06050                          \\\\\n",
       "\t2043 & Cloacibacterium normanense        & 0.01349                          \\\\\n",
       "\t1587 & Polynucleobacter necessarius      & 0.00899                          \\\\\n",
       "\t150 & Curvibacter sp. AEP1-3            & 0.00892                          \\\\\n",
       "\t1986 & Hydrogenophaga sp. RAC07          & 0.00727                          \\\\\n",
       "\t1038 & Homo sapiens                      & 0.00644                          \\\\\n",
       "\t949 & Candidatus Planktophila sulfonica & 0.00544                          \\\\\n",
       "\t876 & Polynucleobacter acidiphobus      & 0.00429                          \\\\\n",
       "\t490 & Polynucleobacter difficilis       & 0.00399                          \\\\\n",
       "\t1015 & Acidovorax sp. KKS102             & 0.00381                          \\\\\n",
       "\\end{tabular}\n"
      ],
      "text/markdown": [
       "\n",
       "| <!--/--> | names | diff |\n",
       "|---|---|---|\n",
       "| 1103 | Limnohabitans sp. 63ED37-2        | 0.06050                           |\n",
       "| 2043 | Cloacibacterium normanense        | 0.01349                           |\n",
       "| 1587 | Polynucleobacter necessarius      | 0.00899                           |\n",
       "| 150 | Curvibacter sp. AEP1-3            | 0.00892                           |\n",
       "| 1986 | Hydrogenophaga sp. RAC07          | 0.00727                           |\n",
       "| 1038 | Homo sapiens                      | 0.00644                           |\n",
       "| 949 | Candidatus Planktophila sulfonica | 0.00544                           |\n",
       "| 876 | Polynucleobacter acidiphobus      | 0.00429                           |\n",
       "| 490 | Polynucleobacter difficilis       | 0.00399                           |\n",
       "| 1015 | Acidovorax sp. KKS102             | 0.00381                           |\n",
       "\n"
      ],
      "text/plain": [
       "     names                             diff   \n",
       "1103 Limnohabitans sp. 63ED37-2        0.06050\n",
       "2043 Cloacibacterium normanense        0.01349\n",
       "1587 Polynucleobacter necessarius      0.00899\n",
       "150  Curvibacter sp. AEP1-3            0.00892\n",
       "1986 Hydrogenophaga sp. RAC07          0.00727\n",
       "1038 Homo sapiens                      0.00644\n",
       "949  Candidatus Planktophila sulfonica 0.00544\n",
       "876  Polynucleobacter acidiphobus      0.00429\n",
       "490  Polynucleobacter difficilis       0.00399\n",
       "1015 Acidovorax sp. KKS102             0.00381"
      ]
     },
     "metadata": {},
     "output_type": "display_data"
    }
   ],
   "source": [
    "greatest_difference <- get_by_difference('beforerain.bracken', 'afterrain.bracken', 10)\n",
    "greatest_difference"
   ]
  },
  {
   "cell_type": "markdown",
   "metadata": {},
   "source": [
    "#### 3. Let ${𝑟_𝑖}$ be the “new_est_reads” numbers (6th column) in one of the files. Define $p_i = \\frac{r_i}{\\sum{r_j}}$. The Shannon diversity for the file is defined as $-\\sum{p_i \\times ln(p_i)}$. Write an R program to compute the Shannon diversity. Run this program for both files and tell us what you find [3pt]."
   ]
  },
  {
   "cell_type": "code",
   "execution_count": 10,
   "metadata": {},
   "outputs": [],
   "source": [
    "compute_diversity <- function(filename) {\n",
    "    # read table\n",
    "    mydata <- read.table(filename, header=T, sep='\\t', stringsAsFactors=F)\n",
    "    # find p\n",
    "    r_total <- sum(mydata$new_est_reads)\n",
    "    mydata$p <- mydata$new_est_reads / r_total\n",
    "    # find H\n",
    "    mydata$H <- -mydata$p * log(mydata$p)\n",
    "    return(sum(mydata$H))\n",
    "}"
   ]
  },
  {
   "cell_type": "code",
   "execution_count": 11,
   "metadata": {},
   "outputs": [],
   "source": [
    "diversity_before <- compute_diversity('beforerain.bracken')\n",
    "diversity_after <- compute_diversity('afterrain.bracken')"
   ]
  },
  {
   "cell_type": "code",
   "execution_count": 12,
   "metadata": {},
   "outputs": [
    {
     "name": "stdout",
     "output_type": "stream",
     "text": [
      "[1] 6.137442\n",
      "[1] 6.723041\n"
     ]
    }
   ],
   "source": [
    "print(diversity_before)\n",
    "print(diversity_after)"
   ]
  },
  {
   "cell_type": "markdown",
   "metadata": {},
   "source": [
    "There seems to be more diversity after the rain than before."
   ]
  }
 ],
 "metadata": {
  "kernelspec": {
   "display_name": "R",
   "language": "R",
   "name": "ir"
  },
  "language_info": {
   "codemirror_mode": "r",
   "file_extension": ".r",
   "mimetype": "text/x-r-source",
   "name": "R",
   "pygments_lexer": "r",
   "version": "3.6.1"
  }
 },
 "nbformat": 4,
 "nbformat_minor": 4
}
