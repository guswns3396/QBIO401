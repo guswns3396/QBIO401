{
 "cells": [
  {
   "cell_type": "markdown",
   "metadata": {},
   "source": [
    "### Hyun-Joon Yang\n",
    "### yanghyun@usc.edu\n",
    "### QBIO 401\n",
    "### Assignment 2"
   ]
  },
  {
   "cell_type": "markdown",
   "metadata": {},
   "source": [
    "<hr style=\"height: 2px\">\n",
    "\n",
    "### TODO\n",
    "\n",
    "- answer 1\n",
    "- count reads => how many reads were same, shorter, longer?\n",
    "- fraction of reads => if not as long than count in denominator?\n",
    "\n",
    "<hr style=\"height: 2px\">"
   ]
  },
  {
   "cell_type": "markdown",
   "metadata": {},
   "source": [
    "Four FASTQ files are placed on Blackboard:\n",
    "\n",
    "<blockquote>\n",
    "XI1_ATCACG_L001_R1_001.fastq <br>\n",
    "XI1_ATCACG_L001_R2_001.fastq <br>\n",
    "RETT-1_S1_L001_R1_001.fastq <br>\n",
    "RETT-1_S1_L001_R2_001.fastq <br>\n",
    "</blockquote>\n",
    "\n",
    "These are next generation sequencing files from a paired-end run. The XI1 reads are mostly 250 base\n",
    "pairs long, the RETT reads are mostly 150 base pairs long. Complicating the assignment, there are a few\n",
    "reads that are a few bases shorter or longer than 250 or 150.\n"
   ]
  },
  {
   "cell_type": "code",
   "execution_count": 1,
   "metadata": {},
   "outputs": [],
   "source": [
    "import matplotlib.pyplot as plt\n",
    "import numpy as np\n",
    "\n",
    "def readFASTQ(line_format, filename):\n",
    "    \"\"\"\n",
    "    extract certain format line of each read\n",
    "    :param line_format: number indicating which line to read\n",
    "        (1 -> header, 2 -> sequence, 3 -> +, 4 -> quality score)\n",
    "    :param filename: name of FASTQ file\n",
    "    :return: list of extracted strings\n",
    "    \"\"\"\n",
    "    result = []\n",
    "    idx = 1\n",
    "    with open(filename, 'r') as f:\n",
    "        for line in f:\n",
    "            line = line.strip()\n",
    "            if (idx - line_format) % 4 == 0 and line != '':\n",
    "                idx = line_format\n",
    "                result.append(line)\n",
    "            idx += 1\n",
    "    return result\n",
    "\n",
    "def calcQScore(qsstr):\n",
    "    \"\"\"\n",
    "    converts quality score string into list of actual scores\n",
    "    :param qsstr: string of characters representing quality score\n",
    "    :return: list of int representing quality score\n",
    "    \"\"\"\n",
    "    qscores = []\n",
    "    for qs in qsstr:\n",
    "        qscores.append(ord(qs) - ord('!'))\n",
    "    return qscores"
   ]
  },
  {
   "cell_type": "markdown",
   "metadata": {},
   "source": [
    "#### 1. Write a Python function that counts the number of reads with the same, shorter and longer length than expected. For each of the four files print the output. Compare the results and describe your finding"
   ]
  },
  {
   "cell_type": "code",
   "execution_count": 43,
   "metadata": {},
   "outputs": [],
   "source": [
    "def countReads(filename, length):\n",
    "    result = {'same': 0, 'shorter': 0, 'longer': 0}\n",
    "    seqlist = readFASTQ(2, filename)\n",
    "    for seq in seqlist:\n",
    "        if len(seq) < length:\n",
    "            result['shorter'] += 1\n",
    "        elif len(seq) > length:\n",
    "            result['longer'] += 1\n",
    "        else:\n",
    "            result['same'] += 1\n",
    "    return result"
   ]
  },
  {
   "cell_type": "code",
   "execution_count": 49,
   "metadata": {},
   "outputs": [
    {
     "name": "stdout",
     "output_type": "stream",
     "text": [
      "{'same': 10000, 'shorter': 0, 'longer': 0}\n",
      "{'same': 10000, 'shorter': 0, 'longer': 0}\n",
      "{'same': 1943, 'shorter': 970, 'longer': 7087}\n",
      "{'same': 2056, 'shorter': 905, 'longer': 7039}\n"
     ]
    }
   ],
   "source": [
    "print(countReads('XI1_ATCACG_L001_R1_001.fastq', 250))\n",
    "print(countReads('XI1_ATCACG_L001_R2_001.fastq', 250))\n",
    "print(countReads('RETT-1_S1_L001_R1_001.fastq', 150))\n",
    "print(countReads('RETT-1_S1_L001_R2_001.fastq', 150))"
   ]
  },
  {
   "cell_type": "markdown",
   "metadata": {},
   "source": [
    "#### 2. Write a Python function that for each of the positions 1 to 250 (or 1 to 150) will compute the fraction of reads in the file with quality scores greater than or equal to 30 at that position. For each of the four files plot the output. Compare the results and describe your finding"
   ]
  },
  {
   "cell_type": "code",
   "execution_count": 58,
   "metadata": {},
   "outputs": [],
   "source": [
    "def calcQScoreFraction(filename):\n",
    "    # get all the quality scores of reads\n",
    "    qscores = readFASTQ(4, filename)\n",
    "    # convert all qs strings to int & find max length\n",
    "    maxlen = len(qscores[0])\n",
    "    for i in range(len(qscores)):\n",
    "        qscores[i] = calcQScore(qscores[i])\n",
    "        if len(qscores[i]) > maxlen:\n",
    "            maxlen = len(qscores[i])\n",
    "    # make all reads the same size\n",
    "    # input -1 for nonexistent positions\n",
    "    for i in range(len(qscores)):\n",
    "        if len(qscores[i]) != maxlen:\n",
    "            for j in range(maxlen - len(qscores[i])):\n",
    "                qscores[i].append(-1)\n",
    "    # turn into numpy array\n",
    "    X = np.array(qscores)\n",
    "    # calculate fraction of reads >= 30 in qs\n",
    "    # ignore positions with value -1\n",
    "    numerator = np.sum(X >= 30, axis=0)\n",
    "    denominator = np.sum(X != -1, axis=0)\n",
    "    \n",
    "    return maxlen, numerator / denominator"
   ]
  },
  {
   "cell_type": "code",
   "execution_count": 124,
   "metadata": {},
   "outputs": [
    {
     "data": {
      "text/plain": [
       "Text(0, 0.5, 'Fraction of Reads with QS >= 30')"
      ]
     },
     "execution_count": 124,
     "metadata": {},
     "output_type": "execute_result"
    },
    {
     "data": {
      "image/png": "[encoded data removed]",
      "text/plain": [
       "<Figure size 432x288 with 1 Axes>"
      ]
     },
     "metadata": {
      "needs_background": "light"
     },
     "output_type": "display_data"
    }
   ],
   "source": [
    "maxlen, result = calcQScoreFraction('XI1_ATCACG_L001_R1_001.fastq')\n",
    "plt.plot([i for i in range(maxlen)], result, 'bo')\n",
    "plt.title('XI1_ATCACG_L001_R1_001.fastq')\n",
    "plt.xlabel('Position')\n",
    "plt.ylabel('Fraction of Reads with QS >= 30')"
   ]
  },
  {
   "cell_type": "markdown",
   "metadata": {},
   "source": [
    "#### 3. Write another function that for k from 0 to 250 (or from 0 to 150) will count the number of reads in the file with exactly k positions with quality scores greater than or equal to 30. For each of the four files plot the output"
   ]
  },
  {
   "cell_type": "code",
   "execution_count": 104,
   "metadata": {},
   "outputs": [],
   "source": [
    "def processKQScore(filename):\n",
    "    \"\"\"\n",
    "    goes through each read & stores number of qs >= 30 in a dictionary\n",
    "    :param filename: name of file\n",
    "    :return: dictionary that maps k (number of positions w qs >= 30) to number of reads\n",
    "    \"\"\"\n",
    "    qsDict = {}\n",
    "    # get all the quality scores of reads\n",
    "    qscores = readFASTQ(4, filename)\n",
    "    # look through all reads\n",
    "    for qsstr in qscores:\n",
    "        k = 0\n",
    "        # look through each score of read & count number of scores >= 30\n",
    "        qs = calcQScore(qsstr)\n",
    "        for score in qs:\n",
    "            if score >= 30:\n",
    "                k += 1\n",
    "        # if already in dictionary increment\n",
    "        # if not, add key & set value to 1\n",
    "        if k in qsDict:\n",
    "            qsDict[k] += 1\n",
    "        else:\n",
    "            qsDict[k] = 1\n",
    "    \n",
    "    return qsDict\n",
    "\n",
    "def countKQScore(qsDict, k):\n",
    "    if k in qsDict:\n",
    "        return qsDict[k]\n",
    "    else:\n",
    "        return 0"
   ]
  },
  {
   "cell_type": "code",
   "execution_count": 105,
   "metadata": {},
   "outputs": [],
   "source": [
    "qsdict_r1 = processKQScore('RETT-1_S1_L001_R1_001.fastq')\n",
    "qsdict_r2 = processKQScore('RETT-1_S1_L001_R2_001.fastq')\n",
    "qsdict_x1 = processKQScore('XI1_ATCACG_L001_R1_001.fastq')\n",
    "qsdict_x2 = processKQScore('XI1_ATCACG_L001_R2_001.fastq')"
   ]
  },
  {
   "cell_type": "code",
   "execution_count": 112,
   "metadata": {},
   "outputs": [],
   "source": [
    "result_r1 = [countKQScore(qsdict_r1, k) for k in range(151+1)]\n",
    "result_r2 = [countKQScore(qsdict_r2, k) for k in range(151+1)]\n",
    "result_x1 = [countKQScore(qsdict_x1, k) for k in range(250+1)]\n",
    "result_x2 = [countKQScore(qsdict_x2, k) for k in range(250+1)]"
   ]
  },
  {
   "cell_type": "code",
   "execution_count": 123,
   "metadata": {},
   "outputs": [
    {
     "name": "stdout",
     "output_type": "stream",
     "text": [
      "10000\n",
      "10000\n",
      "10000\n",
      "10000\n"
     ]
    },
    {
     "data": {
      "image/png": "[encoded data removed]",
      "text/plain": [
       "<Figure size 432x288 with 1 Axes>"
      ]
     },
     "metadata": {
      "needs_background": "light"
     },
     "output_type": "display_data"
    },
    {
     "data": {
      "image/png": "[encoded data removed]",
      "text/plain": [
       "<Figure size 432x288 with 1 Axes>"
      ]
     },
     "metadata": {
      "needs_background": "light"
     },
     "output_type": "display_data"
    },
    {
     "data": {
      "image/png": "[encoded data removed]",
      "text/plain": [
       "<Figure size 432x288 with 1 Axes>"
      ]
     },
     "metadata": {
      "needs_background": "light"
     },
     "output_type": "display_data"
    },
    {
     "data": {
      "image/png": "[encoded data removed]",
      "text/plain": [
       "<Figure size 432x288 with 1 Axes>"
      ]
     },
     "metadata": {
      "needs_background": "light"
     },
     "output_type": "display_data"
    }
   ],
   "source": [
    "plt.figure()\n",
    "plt.plot([i for i in range(151+1)], result_r1, 'bo')\n",
    "plt.title('RETT-1_S1_L001_R1_001.fastq')\n",
    "plt.xlabel('k')\n",
    "plt.ylabel('Number of Reads')\n",
    "print(sum(result_r1))\n",
    "plt.figure()\n",
    "plt.plot([i for i in range(151+1)], result_r2, 'bx')\n",
    "plt.title('RETT-1_S1_L001_R2_001.fastq')\n",
    "plt.xlabel('k')\n",
    "plt.ylabel('Number of Reads')\n",
    "print(sum(result_r2))\n",
    "plt.figure()\n",
    "plt.plot([i for i in range(250+1)], result_x1, 'ro')\n",
    "plt.title('XI1_ATCACG_L001_R1_001.fastq')\n",
    "plt.xlabel('k')\n",
    "plt.ylabel('Number of Reads')\n",
    "print(sum(result_x1))\n",
    "plt.figure()\n",
    "plt.plot([i for i in range(250+1)], result_x2, 'rx')\n",
    "plt.title('XI1_ATCACG_L001_R2_001.fastq')\n",
    "plt.xlabel('k')\n",
    "plt.ylabel('Number of Reads')\n",
    "print(sum(result_x2))"
   ]
  },
  {
   "cell_type": "markdown",
   "metadata": {},
   "source": [
    "#### TESTS"
   ]
  },
  {
   "cell_type": "code",
   "execution_count": 46,
   "metadata": {},
   "outputs": [
    {
     "name": "stderr",
     "output_type": "stream",
     "text": [
      "test_default (__main__.TestCalcQScore) ... ok\n",
      "test_emptyString (__main__.TestCalcQScore) ... ok\n",
      "test_numResultEqualsMaxLen (__main__.TestCalcQScoreFraction) ... ok\n",
      "test_sameShape (__main__.TestCalcQScoreFraction) ... ok\n",
      "test_default (__main__.TestCountKQScore) ... ok\n",
      "test_zero (__main__.TestCountKQScore) ... ok\n",
      "test_default (__main__.TestCountReads) ... ok\n",
      "test_blanksAtEOF (__main__.TestReadFASTQ) ... ok\n",
      "test_default (__main__.TestReadFASTQ) ... ok\n",
      "test_emptyFileName (__main__.TestReadFASTQ) ... ok\n",
      "\n",
      "----------------------------------------------------------------------\n",
      "Ran 10 tests in 0.039s\n",
      "\n",
      "OK\n"
     ]
    },
    {
     "data": {
      "text/plain": [
       "<unittest.main.TestProgram at 0x231cc085850>"
      ]
     },
     "execution_count": 46,
     "metadata": {},
     "output_type": "execute_result"
    }
   ],
   "source": [
    "import unittest\n",
    "import os\n",
    "\n",
    "class TestReadFASTQ(unittest.TestCase):\n",
    "    def tearDown(self):\n",
    "        if os.path.exists('test.txt'):\n",
    "            os.remove('test.txt')\n",
    "        \n",
    "    def test_emptyFileName(self):\n",
    "        self.assertRaises(FileNotFoundError, readFASTQ, 1, '')\n",
    "    \n",
    "    def test_blanksAtEOF(self):\n",
    "        with open('test.txt', 'w') as f:\n",
    "            print('\\n\\n', file=f)\n",
    "        \n",
    "        result = readFASTQ(1, 'test.txt')\n",
    "        \n",
    "        self.assertEqual([], result)\n",
    "    \n",
    "    def test_default(self):\n",
    "        with open('test.txt', 'w') as f:\n",
    "            for i in range(5):\n",
    "                print('this is header', file=f)\n",
    "                print('this is seq', file=f)\n",
    "                print('this is addition', file=f)\n",
    "                print('this is qs', file=f)\n",
    "    \n",
    "        result = readFASTQ(2, 'test.txt')\n",
    "        \n",
    "        expected = []\n",
    "        for i in range(5):\n",
    "            expected.append('this is seq')\n",
    "        self.assertEqual(expected, result)\n",
    "        \n",
    "class TestCalcQScore(unittest.TestCase):\n",
    "    def test_emptyString(self):\n",
    "        scores = calcQScore('')\n",
    "        \n",
    "        self.assertEqual([], scores)\n",
    "    \n",
    "    def test_default(self):\n",
    "        qsstr = '!;@J'\n",
    "        \n",
    "        scores = calcQScore(qsstr)\n",
    "        \n",
    "        expected = [0, 26, 31, 41]\n",
    "        self.assertEqual(expected, scores)\n",
    "        \n",
    "class TestCountReads(unittest.TestCase):\n",
    "    def tearDown(self):\n",
    "        if os.path.exists('test.txt'):\n",
    "            os.remove('test.txt')\n",
    "            \n",
    "    def test_default(self):\n",
    "        seq = ['aaa', 'aaa', 'aaaa', 'aa', 'aaa']\n",
    "        with open('test.txt', 'w') as f:\n",
    "            for s in seq:\n",
    "                print('this is header', file=f)\n",
    "                print(s, file=f)\n",
    "                print('this is addition', file=f)\n",
    "                print('this is qs', file=f)\n",
    "        \n",
    "        result = countReads('test.txt', 3)\n",
    "        \n",
    "        self.assertEqual({'same': 3, 'shorter': 1, 'longer': 1}, result)\n",
    "\n",
    "class TestCalcQScoreFraction(unittest.TestCase):\n",
    "    def test_sameShape(self):\n",
    "        pass\n",
    "    \n",
    "    def test_numResultEqualsMaxLen(self):\n",
    "        pass\n",
    "        \n",
    "class TestCountKQScore(unittest.TestCase):\n",
    "    def tearDown(self):\n",
    "        if os.path.exists('test.txt'):\n",
    "            os.remove('test.txt')\n",
    "        \n",
    "    def test_default(self):\n",
    "        with open('test.txt', 'w') as f:\n",
    "            for i in range(5):\n",
    "                print('this is header', file=f)\n",
    "                print('this is seq', file=f)\n",
    "                print('this is addition', file=f)\n",
    "                print('!J'*i, file=f)\n",
    "        \n",
    "        count = countKQScore('test.txt', 1)\n",
    "        \n",
    "        self.assertEqual(1, count)\n",
    "        \n",
    "    def test_zero(self):\n",
    "        with open('test.txt', 'w') as f:\n",
    "            for i in range(5):\n",
    "                print('this is header', file=f)\n",
    "                print('this is seq', file=f)\n",
    "                print('this is addition', file=f)\n",
    "                print('!!'*i, file=f)\n",
    "            \n",
    "        count = countKQScore('test.txt', 0)\n",
    "        \n",
    "        self.assertEqual(4, count)\n",
    "\n",
    "unittest.main(argv=[''], verbosity=2, exit=False)"
   ]
  }
 ],
 "metadata": {
  "kernelspec": {
   "display_name": "Python 3",
   "language": "python",
   "name": "python3"
  },
  "language_info": {
   "codemirror_mode": {
    "name": "ipython",
    "version": 3
   },
   "file_extension": ".py",
   "mimetype": "text/x-python",
   "name": "python",
   "nbconvert_exporter": "python",
   "pygments_lexer": "ipython3",
   "version": "3.8.5"
  }
 },
 "nbformat": 4,
 "nbformat_minor": 2
}
