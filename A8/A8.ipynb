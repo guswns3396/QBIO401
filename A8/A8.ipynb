{
 "cells": [
  {
   "cell_type": "markdown",
   "metadata": {},
   "source": [
    "### Hyun-Joon Yang\n",
    "### yanghyun@usc.edu\n",
    "### QBIO 401\n",
    "### Assignment 7"
   ]
  },
  {
   "cell_type": "markdown",
   "metadata": {},
   "source": [
    "We are going to build models to predict protein–DNA binding based on the data obtained from high-throughput in vitro protein–DNA binding assays.\n",
    "\n",
    "Download and install the following packages from Jupyter Notebook or other platforms:\n",
    "1. Bioconductor (refer the instructions on https://www.bioconductor.org/install/)\n",
    "2. The DNA shape prediction tool: DNAshapeR ( refer the instructions on https://www.bioconductor.org/packages/release/bioc/html/DNAshapeR.html)\n",
    "3. The machine learning tool: caret (refer the instructions on https://github.com/topepo/caret)"
   ]
  },
  {
   "cell_type": "code",
   "execution_count": 1,
   "metadata": {},
   "outputs": [],
   "source": [
    "# if (!requireNamespace(\"BiocManager\", quietly = TRUE))\n",
    "#     install.packages(\"BiocManager\")\n",
    "\n",
    "# BiocManager::install(\"DNAshapeR\")"
   ]
  },
  {
   "cell_type": "code",
   "execution_count": 2,
   "metadata": {},
   "outputs": [],
   "source": [
    "# install.packages('caret')"
   ]
  },
  {
   "cell_type": "code",
   "execution_count": 3,
   "metadata": {},
   "outputs": [],
   "source": [
    "rm(list=ls())"
   ]
  },
  {
   "cell_type": "code",
   "execution_count": 4,
   "metadata": {},
   "outputs": [
    {
     "name": "stderr",
     "output_type": "stream",
     "text": [
      "Loading required package: GenomicRanges\n",
      "Loading required package: stats4\n",
      "Loading required package: BiocGenerics\n",
      "Loading required package: parallel\n",
      "\n",
      "Attaching package: 'BiocGenerics'\n",
      "\n",
      "The following objects are masked from 'package:parallel':\n",
      "\n",
      "    clusterApply, clusterApplyLB, clusterCall, clusterEvalQ,\n",
      "    clusterExport, clusterMap, parApply, parCapply, parLapply,\n",
      "    parLapplyLB, parRapply, parSapply, parSapplyLB\n",
      "\n",
      "The following objects are masked from 'package:stats':\n",
      "\n",
      "    IQR, mad, sd, var, xtabs\n",
      "\n",
      "The following objects are masked from 'package:base':\n",
      "\n",
      "    anyDuplicated, append, as.data.frame, basename, cbind, colnames,\n",
      "    dirname, do.call, duplicated, eval, evalq, Filter, Find, get, grep,\n",
      "    grepl, intersect, is.unsorted, lapply, Map, mapply, match, mget,\n",
      "    order, paste, pmax, pmax.int, pmin, pmin.int, Position, rank,\n",
      "    rbind, Reduce, rownames, sapply, setdiff, sort, table, tapply,\n",
      "    union, unique, unsplit, which, which.max, which.min\n",
      "\n",
      "Loading required package: S4Vectors\n",
      "Warning message:\n",
      "\"package 'S4Vectors' was built under R version 3.6.3\"\n",
      "Attaching package: 'S4Vectors'\n",
      "\n",
      "The following object is masked from 'package:base':\n",
      "\n",
      "    expand.grid\n",
      "\n",
      "Loading required package: IRanges\n",
      "Warning message:\n",
      "\"package 'IRanges' was built under R version 3.6.2\"\n",
      "Attaching package: 'IRanges'\n",
      "\n",
      "The following object is masked from 'package:grDevices':\n",
      "\n",
      "    windows\n",
      "\n",
      "Loading required package: GenomeInfoDb\n",
      "Warning message:\n",
      "\"package 'GenomeInfoDb' was built under R version 3.6.3\"Warning message:\n",
      "\"package 'caret' was built under R version 3.6.3\"Loading required package: lattice\n",
      "Loading required package: ggplot2\n",
      "Registered S3 methods overwritten by 'ggplot2':\n",
      "  method         from \n",
      "  [.quosures     rlang\n",
      "  c.quosures     rlang\n",
      "  print.quosures rlang\n"
     ]
    }
   ],
   "source": [
    "library(DNAshapeR)\n",
    "library(caret)"
   ]
  },
  {
   "cell_type": "markdown",
   "metadata": {},
   "source": [
    "#### 1. Use the DNAshapeR package to predict DNA shape for each sequence bound by transcription factor Mad, Max and Myc. The datasets were obtained from the in vitro gcPBM (genomic context protein binding microarray) assay. The sequence data in FASTA format (Mad.fa, Max.fa and Myc.fa) can be found on Blackboard. Use plotShape() or heatShape() functions of DNAshapeR to generate ensemble plots for the DNA shape parameters of minor groove width (MGW), propeller twist (ProT), Roll, and helix twist (HelT). Discuss what you find from the results [2pt]."
   ]
  },
  {
   "cell_type": "code",
   "execution_count": 5,
   "metadata": {},
   "outputs": [
    {
     "name": "stdout",
     "output_type": "stream",
     "text": [
      "Reading the input sequence......\n",
      "Reading the input sequence......\n",
      "Reading the input sequence......\n",
      "Reading the input sequence......\n",
      "Reading the input sequence......\n"
     ]
    },
    {
     "name": "stderr",
     "output_type": "stream",
     "text": [
      "Parsing files......\n",
      "Record length: 36\n",
      "Record length: 35\n",
      "Record length: 36\n",
      "Record length: 35\n",
      "Record length: 36\n",
      "Done\n"
     ]
    },
    {
     "name": "stdout",
     "output_type": "stream",
     "text": [
      "Reading the input sequence......\n",
      "Reading the input sequence......\n",
      "Reading the input sequence......\n",
      "Reading the input sequence......\n",
      "Reading the input sequence......\n"
     ]
    },
    {
     "name": "stderr",
     "output_type": "stream",
     "text": [
      "Parsing files......\n",
      "Record length: 36\n",
      "Record length: 35\n",
      "Record length: 36\n",
      "Record length: 35\n",
      "Record length: 36\n",
      "Done\n"
     ]
    },
    {
     "name": "stdout",
     "output_type": "stream",
     "text": [
      "Reading the input sequence......\n",
      "Reading the input sequence......\n",
      "Reading the input sequence......\n",
      "Reading the input sequence......\n",
      "Reading the input sequence......\n"
     ]
    },
    {
     "name": "stderr",
     "output_type": "stream",
     "text": [
      "Parsing files......\n",
      "Record length: 36\n",
      "Record length: 35\n",
      "Record length: 36\n",
      "Record length: 35\n",
      "Record length: 36\n",
      "Done\n"
     ]
    }
   ],
   "source": [
    "# names\n",
    "ns <- c('Mad', 'Max', 'Myc')\n",
    "# list for each shape output\n",
    "shapes <- list()\n",
    "# get shape for each file\n",
    "for (n in ns) {\n",
    "    fn <- paste(n,'.fa', sep='')\n",
    "    shapes[[length(shapes) + 1]] <- getShape(fn)\n",
    "}\n",
    "# add names\n",
    "names(shapes) <- ns"
   ]
  },
  {
   "cell_type": "code",
   "execution_count": 6,
   "metadata": {},
   "outputs": [
    {
     "data": {
      "image/png": "[encoded data removed]",
      "text/plain": [
       "plot without title"
      ]
     },
     "metadata": {},
     "output_type": "display_data"
    }
   ],
   "source": [
    "# plot where each row is shape type\n",
    "# each col is transcription factor\n",
    "plot.new()\n",
    "layout(matrix(1:12, ncol=length(shapes)))\n",
    "for (n in ns) {\n",
    "    plotShape(shapes[[n]]$MGW)\n",
    "    plotShape(shapes[[n]]$ProT)\n",
    "    plotShape(shapes[[n]]$Roll)\n",
    "    plotShape(shapes[[n]]$HelT)\n",
    "}"
   ]
  },
  {
   "cell_type": "markdown",
   "metadata": {},
   "source": [
    "They all seems to have the same pattern of MGW, ProT, Roll, and HelT along the sequences."
   ]
  },
  {
   "cell_type": "markdown",
   "metadata": {},
   "source": [
    "#### 2. Write an R function that takes as input a FASTA file. The function returns a feature matrix for “1-mer” sequence model using one-hot encoding which is a way to represent categorical data as binary vector [3pt].\n",
    "\n",
    "For DNA, we have four categories A, T, G, and C. Thus a one hot code for DNA is: <br>\n",
    "A: [0,0,0,1] <br>\n",
    "C: [0,0,1,0] <br>\n",
    "G: [0,1,0,0] <br>\n",
    "T: [1,0,0,0] <br>\n",
    "\n",
    "For example, for the sequence AATTC, the 1-mer one-hot encoding is: <br>\n",
    "[0,0,0,1,0,0,0,1,1,0,0,0,1,0,0,0,1,0,0,0]"
   ]
  },
  {
   "cell_type": "code",
   "execution_count": 7,
   "metadata": {},
   "outputs": [],
   "source": [
    "# encode nucleotide\n",
    "# gets nucleotide and returns the corresponding one-hot encoding\n",
    "encodeNucleotide <- function(nucleotide) {\n",
    "    dict <- list(A=c(0,0,0,1), C=c(0,0,1,0), G=c(0,1,0,0), T=c(1,0,0,0))\n",
    "    return(dict[nucleotide])\n",
    "}\n",
    "\n",
    "# encode sequence\n",
    "# gets sequence and returns vector of one-hot encoded sequence\n",
    "encodeSequence <- function(sequence) {\n",
    "    nucleotides <- strsplit(sequence, split='', fixed=T)\n",
    "    result <- unlist(lapply(nucleotides, encodeNucleotide))\n",
    "    names(result) <- c()\n",
    "    return(result)\n",
    "}\n",
    "\n",
    "# encode FASTA\n",
    "# gets FASTA file and returns matrix of one-hot encoded sequences\n",
    "encodeFASTA <- function(filename) {\n",
    "    # read FASTA\n",
    "    fa <- read.table(filename, comment.char='>')\n",
    "    # encode sequence\n",
    "    result <- apply(fa, 1, encodeSequence)\n",
    "    # transpose\n",
    "    result <- t(result)\n",
    "    return(result)\n",
    "}"
   ]
  },
  {
   "cell_type": "markdown",
   "metadata": {},
   "source": [
    "**TEST**"
   ]
  },
  {
   "cell_type": "code",
   "execution_count": 8,
   "metadata": {},
   "outputs": [
    {
     "name": "stdout",
     "output_type": "stream",
     "text": [
      "$A\n",
      "[1] 0 0 0 1\n",
      "\n",
      "$C\n",
      "[1] 0 0 1 0\n",
      "\n",
      "$G\n",
      "[1] 0 1 0 0\n",
      "\n",
      "$T\n",
      "[1] 1 0 0 0\n",
      "\n",
      " [1] 0 0 0 1 0 0 0 1 1 0 0 0 1 0 0 0 0 0 1 0\n",
      "[1] 7534  144\n",
      "[1] TRUE\n",
      "[1] TRUE\n"
     ]
    }
   ],
   "source": [
    "nucleotides <- c('A', 'C', 'G', 'T')\n",
    "for (i in nucleotides) {\n",
    "    print(encodeNucleotide(i))\n",
    "}\n",
    "\n",
    "sequence <- 'AATTC'\n",
    "print(encodeSequence(sequence))\n",
    "\n",
    "sequence <- 'GGGCATGAAAGCCACCTCGTGGTTTTGCAGCAAGTG'\n",
    "len <- length(unlist(strsplit(sequence, split='', fixed=T)))\n",
    "test <- encodeFASTA('Mad.fa')\n",
    "print(dim(test))\n",
    "print(dim(test)[2] == len*4)\n",
    "print(all(test[1,] == encodeSequence(sequence)))"
   ]
  },
  {
   "cell_type": "markdown",
   "metadata": {},
   "source": [
    "#### 3. Use the function from Q#2 to generate a “1-mer” feature vector and combine the shape features generated from Q#1 for “1-mer+shape” model with respect to the datasets of Mad, Max and Myc. Use the caret package to build L2-regularized MLR models for “1-mer” and “1-mer+shape” features with 10-fold cross validation (set the L2 lambda value between 2-15 to 215), and print out the average R2 (coefficient of determination) for these two models with respect to the datasets of Mad, Max and Myc. The corresponding protein–DNA binding affinities can be found in corresponding `*.s` files. Compare the performance between “1-mer” sequence model and “1-mer+shape” model and explain what you find [3pt]."
   ]
  },
  {
   "cell_type": "code",
   "execution_count": 9,
   "metadata": {},
   "outputs": [],
   "source": [
    "# create list of feature matrices for each file\n",
    "features.seq <- list()\n",
    "features.shape <- list()\n",
    "\n",
    "# loop over files\n",
    "for (n in ns) {\n",
    "    # add 1-mer feature vector\n",
    "    features.seq[[n]] <- encodeFASTA(paste(n, '.fa', sep=''))\n",
    "    # combine intra bp parameters\n",
    "    features.shape[[n]] <- cbind(features.seq[[n]], shapes[[n]]$MGW, shapes[[n]]$ProT)\n",
    "    # combine inter bp parameters\n",
    "    features.shape[[n]] <- cbind(features.shape[[n]], shapes[[n]]$Roll, shapes[[n]]$HelT)\n",
    "}"
   ]
  },
  {
   "cell_type": "code",
   "execution_count": 11,
   "metadata": {},
   "outputs": [],
   "source": [
    "# remove columns with NA\n",
    "for (n in ns) {\n",
    "    features.seq[[n]] <- features.seq[[n]][, colSums(is.na(features.seq[[n]])) == 0]\n",
    "    features.shape[[n]] <- features.shape[[n]][, colSums(is.na(features.shape[[n]])) == 0]\n",
    "}"
   ]
  },
  {
   "cell_type": "code",
   "execution_count": 13,
   "metadata": {},
   "outputs": [],
   "source": [
    "# add ground truth to features\n",
    "data.seq <- list()\n",
    "data.shape <- list()\n",
    "for (n in ns) {\n",
    "    gt <- read.table(paste(n, '.s', sep=''))[,2]\n",
    "    data.seq[[n]] <- cbind(features.seq[[n]], gt)\n",
    "    data.shape[[n]] <- cbind(features.shape[[n]], gt)\n",
    "}"
   ]
  },
  {
   "cell_type": "markdown",
   "metadata": {},
   "source": [
    "#### Shape Model"
   ]
  },
  {
   "cell_type": "code",
   "execution_count": 15,
   "metadata": {},
   "outputs": [],
   "source": [
    "# split data\n",
    "train.data.shape <- list()\n",
    "test.data.shape <- list()\n",
    "for (n in ns) {\n",
    "    trainIndex <- createDataPartition(data.shape[[n]][,ncol(data.shape[[n]])], p=.8, list = FALSE, times=1)\n",
    "    train.data.shape[[n]] <- data.shape[[n]][trainIndex,]\n",
    "    test.data.shape[[n]] <- data.shape[[n]][-trainIndex,]\n",
    "}\n",
    "\n",
    "# 10-fold cross validation\n",
    "fitControl <- trainControl(method=\"cv\", number=10, savePredictions=TRUE)"
   ]
  },
  {
   "cell_type": "code",
   "execution_count": 17,
   "metadata": {},
   "outputs": [
    {
     "name": "stderr",
     "output_type": "stream",
     "text": [
      "Warning message in nominalTrainWorkflow(x = x, y = y, wts = weights, info = trainInfo, :\n",
      "\"There were missing values in resampled performance measures.\"Warning message in nominalTrainWorkflow(x = x, y = y, wts = weights, info = trainInfo, :\n",
      "\"There were missing values in resampled performance measures.\"Warning message in nominalTrainWorkflow(x = x, y = y, wts = weights, info = trainInfo, :\n",
      "\"There were missing values in resampled performance measures.\""
     ]
    }
   ],
   "source": [
    "# train\n",
    "model.shape <- list()\n",
    "for (n in ns) {\n",
    "    model.shape[[n]] <- train(gt~., data=data.frame(train.data.shape[[n]]), trControl=fitControl, method=\"glmnet\",\n",
    "                   tuneGrid=data.frame(alpha = 0, lambda=c(2^c(-15:15))))\n",
    "}"
   ]
  },
  {
   "cell_type": "markdown",
   "metadata": {},
   "source": [
    "#### Sequence Model"
   ]
  },
  {
   "cell_type": "code",
   "execution_count": 18,
   "metadata": {},
   "outputs": [],
   "source": [
    "# split data\n",
    "train.data.seq <- list()\n",
    "test.data.seq <- list()\n",
    "for (n in ns) {\n",
    "    trainIndex <- createDataPartition(data.seq[[n]][,ncol(data.seq[[n]])], p=.8, list = FALSE, times=1)\n",
    "    train.data.seq[[n]] <- data.seq[[n]][trainIndex,]\n",
    "    test.data.seq[[n]] <- data.seq[[n]][-trainIndex,]\n",
    "}\n",
    "\n",
    "# cross validation\n",
    "fitControl <- trainControl(method=\"cv\", number=10, savePredictions=TRUE)"
   ]
  },
  {
   "cell_type": "code",
   "execution_count": 19,
   "metadata": {},
   "outputs": [
    {
     "name": "stderr",
     "output_type": "stream",
     "text": [
      "Warning message in nominalTrainWorkflow(x = x, y = y, wts = weights, info = trainInfo, :\n",
      "\"There were missing values in resampled performance measures.\"Warning message in nominalTrainWorkflow(x = x, y = y, wts = weights, info = trainInfo, :\n",
      "\"There were missing values in resampled performance measures.\"Warning message in nominalTrainWorkflow(x = x, y = y, wts = weights, info = trainInfo, :\n",
      "\"There were missing values in resampled performance measures.\""
     ]
    }
   ],
   "source": [
    "# train\n",
    "model.seq <- list()\n",
    "for (n in ns) {\n",
    "    model.seq[[n]] <- train(gt~., data=data.frame(train.data.seq[[n]]), trControl=fitControl, method=\"glmnet\",\n",
    "                   tuneGrid=data.frame(alpha = 0, lambda=c(2^c(-15:15))))\n",
    "}"
   ]
  },
  {
   "cell_type": "markdown",
   "metadata": {},
   "source": [
    "#### Average R2"
   ]
  },
  {
   "cell_type": "code",
   "execution_count": 20,
   "metadata": {},
   "outputs": [
    {
     "name": "stdout",
     "output_type": "stream",
     "text": [
      "[1] \"Mad\"\n",
      "[1] \"Shape model: 0.73535729130494\"\n",
      "[1] \"Sequence model: 0.711448347885396\"\n",
      "[1] \"Max\"\n",
      "[1] \"Shape model: 0.719817550912976\"\n",
      "[1] \"Sequence model: 0.702892352169605\"\n",
      "[1] \"Myc\"\n",
      "[1] \"Shape model: 0.729568107763171\"\n",
      "[1] \"Sequence model: 0.72835286320677\"\n"
     ]
    }
   ],
   "source": [
    "for (n in ns) {\n",
    "    print(n)\n",
    "    print(paste('Shape model:', mean(model.shape[[n]]$results$Rsquared[!is.na(model.shape[[n]]$results$Rsquared)])))\n",
    "    print(paste('Sequence model:', mean(model.seq[[n]]$results$Rsquared[!is.na(model.seq[[n]]$results$Rsquared)])))\n",
    "}"
   ]
  },
  {
   "cell_type": "markdown",
   "metadata": {},
   "source": [
    "#### Performance"
   ]
  },
  {
   "cell_type": "code",
   "execution_count": 21,
   "metadata": {},
   "outputs": [
    {
     "name": "stdout",
     "output_type": "stream",
     "text": [
      "[1] \"Mad\"\n",
      "[1] \"Shape model RMSE: 0.306371205449735\"\n",
      "[1] \"Sequence model RMSE: 0.371845394578494\"\n",
      "[1] \"Max\"\n",
      "[1] \"Shape model RMSE: 0.0794624565461406\"\n",
      "[1] \"Sequence model RMSE: 0.100545693240345\"\n",
      "[1] \"Myc\"\n",
      "[1] \"Shape model RMSE: 0.309649757237914\"\n",
      "[1] \"Sequence model RMSE: 0.374833561133695\"\n"
     ]
    }
   ],
   "source": [
    "for (n in ns) {\n",
    "    print(n)\n",
    "    pred.shape <- predict(model.shape[[n]], test.data.shape[[n]])\n",
    "    pred.seq <- predict(model.seq[[n]], test.data.seq[[n]])\n",
    "    print(paste('Shape model RMSE:', RMSE(pred.shape, data.frame(test.data.shape[[n]])$gt)))\n",
    "    print(paste('Sequence model RMSE:', RMSE(pred.seq, data.frame(test.data.seq[[n]])$gt)))\n",
    "}"
   ]
  },
  {
   "cell_type": "markdown",
   "metadata": {},
   "source": [
    "It seems the model that takes shape as input is better at predicting binding affinity than the model that only takes in the sequence."
   ]
  },
  {
   "cell_type": "markdown",
   "metadata": {},
   "source": [
    "**TEST**"
   ]
  },
  {
   "cell_type": "code",
   "execution_count": 10,
   "metadata": {},
   "outputs": [
    {
     "name": "stdout",
     "output_type": "stream",
     "text": [
      "[1] 7534  286\n",
      "logical(0)\n",
      "[1] TRUE\n",
      "[1] 8568  286\n",
      "logical(0)\n",
      "[1] TRUE\n",
      "[1] 6926  286\n",
      "logical(0)\n",
      "[1] TRUE\n"
     ]
    }
   ],
   "source": [
    "# test for correct dimensions\n",
    "\n",
    "# MGW, ProT => intra bp parameter (number of features per sequence = lengthOfSequence)\n",
    "# Roll, HelT => inter bp parameter (number of features per sequence = lengthOfSequence - 1)\n",
    "len <- 36\n",
    "for (n in ns) {\n",
    "    print(dim(features.shape[[n]]))\n",
    "    print(dim(features.shape[[n]])[1] == dim(shapes[[n]][1])[1])\n",
    "    x <- len*4 + len*2 + (len-1)*2\n",
    "    print(dim(features.shape[[n]])[2] == x)\n",
    "}"
   ]
  },
  {
   "cell_type": "code",
   "execution_count": 12,
   "metadata": {},
   "outputs": [
    {
     "name": "stdout",
     "output_type": "stream",
     "text": [
      "[1] TRUE\n",
      "[1] TRUE\n",
      "[1] TRUE\n"
     ]
    }
   ],
   "source": [
    "# test for NA\n",
    "for (n in ns) {\n",
    "    print(!any(is.na(features.shape[[n]])))\n",
    "}"
   ]
  },
  {
   "cell_type": "code",
   "execution_count": 14,
   "metadata": {},
   "outputs": [
    {
     "name": "stdout",
     "output_type": "stream",
     "text": [
      "[1] TRUE\n",
      "[1] TRUE\n",
      "[1] TRUE\n",
      "[1] TRUE\n",
      "[1] TRUE\n",
      "[1] TRUE\n"
     ]
    }
   ],
   "source": [
    "# test dimensions for data\n",
    "for (n in ns) {\n",
    "    print(dim(features.shape[[n]])[1] == dim(data.shape[[n]])[1])\n",
    "    print(dim(features.shape[[n]])[2] == dim(data.shape[[n]])[2]-1)\n",
    "}"
   ]
  },
  {
   "cell_type": "code",
   "execution_count": 16,
   "metadata": {},
   "outputs": [
    {
     "name": "stdout",
     "output_type": "stream",
     "text": [
      "[1] TRUE\n",
      "[1] TRUE\n",
      "[1] \"6029 6027.2\"\n",
      "[1] \"1505 1506.8\"\n",
      "[1] TRUE\n",
      "[1] TRUE\n",
      "[1] \"6856 6854.4\"\n",
      "[1] \"1712 1713.6\"\n",
      "[1] TRUE\n",
      "[1] TRUE\n",
      "[1] \"5542 5540.8\"\n",
      "[1] \"1384 1385.2\"\n"
     ]
    }
   ],
   "source": [
    "# test dimensions of test & training data\n",
    "for (n in ns) {\n",
    "    print(dim(train.data.shape[[n]])[2] == dim(data.shape[[n]])[2])\n",
    "    print(dim(test.data.shape[[n]])[2] == dim(data.shape[[n]])[2])\n",
    "    print(paste(dim(train.data.shape[[n]])[1], 0.8*dim(data.shape[[n]])[1]))\n",
    "    print(paste(dim(test.data.shape[[n]])[1], 0.2*dim(data.shape[[n]])[1]))\n",
    "}"
   ]
  },
  {
   "cell_type": "code",
   "execution_count": null,
   "metadata": {},
   "outputs": [],
   "source": []
  }
 ],
 "metadata": {
  "kernelspec": {
   "display_name": "R",
   "language": "R",
   "name": "ir"
  },
  "language_info": {
   "codemirror_mode": "r",
   "file_extension": ".r",
   "mimetype": "text/x-r-source",
   "name": "R",
   "pygments_lexer": "r",
   "version": "3.6.1"
  }
 },
 "nbformat": 4,
 "nbformat_minor": 4
}
