{
 "cells": [
  {
   "cell_type": "markdown",
   "metadata": {},
   "source": [
    "### Hyun-Joon Yang\n",
    "### yanghyun@usc.edu\n",
    "### QBIO 401\n",
    "### Assignment 2"
   ]
  },
  {
   "cell_type": "markdown",
   "metadata": {},
   "source": [
    "#### 1. Write a Python function that takes as input a DNA sequence string and returns its reverse complement string. For example, given an input string “CATGCCGGAATT”, the function returns the reverse complement string “AATTCCGGCATG”"
   ]
  },
  {
   "cell_type": "code",
   "execution_count": 1,
   "metadata": {},
   "outputs": [],
   "source": [
    "def reverseComplement(seq):\n",
    "    atgc = {'A': 'T', 'T': 'A', 'G': 'C', 'C': 'G'}\n",
    "    complement = ''\n",
    "    for i in range(len(seq)):\n",
    "        if seq[len(seq)-i-1] in atgc:\n",
    "            complement += atgc[seq[len(seq)-i-1]]\n",
    "        else:\n",
    "            complement += seq[len(seq)-i-1]\n",
    "    return complement"
   ]
  },
  {
   "cell_type": "markdown",
   "metadata": {},
   "source": [
    "#### 2. Write a Python function (or functions) to find all ORFs from six different reading frames (+1, +2, +3, -1, -2, -3) in a sequence string (you may need function #1 to get reverse complement string). Since we are only interested in relatively long ORFs, the function should only return those ORFs longer than an input threshold value. Compute the length of the ORFs as the number of codons (counting the start and stop codon). The start codon is “ATG” and the stop codons are “TAG”, “TAA”, and “TGA”"
   ]
  },
  {
   "cell_type": "markdown",
   "metadata": {},
   "source": [
    "In the example below, there are two overlapping ORFs (the first three lines are the same sequence and the last three lines are the same reverse complement sequence, with the commas in different places to make it easier to read). The length of the ORF on the first line is seven. The length of the ORF on the second line is six. Each ORF starts with an “ATG”, ends up with a stop\n",
    "codon, and there is no in-frame stop codon in the sequence.\n",
    "<br>\n",
    "<br>\n",
    "For an input sequence: AATGCCCAAATGCTTTTAAAACCCATGTAGC\n",
    "<br>\n",
    "<br>\n",
    "Frame 1: AAT,GCC,CAA,<b>ATG,CTT,TTA,AAA,CCC,ATG,TAG</b>,C <br>\n",
    "Frame 2: A,<b>ATG,CCC,AAA,TGC,TTT,TAA</b>,AAC,CCA,TGT,AGC <br>\n",
    "Frame 3: AA,TGC,CCA,AAT,GCT,TTT,AAA,ACC,CAT,GTA,GC <br>\n",
    "Frame -1: GCT,ACA,TGG,GTT,TTA,AAA,GCA,TTT,GGG,CAT,T <br>\n",
    "Frame -2: G,CTA,CAT,GGG,TTT,TAA,AAG,CAT,TTG,GGC,ATT <br>\n",
    "Frame -3: GC,TAC,ATG,GGT,TTT,AAA,AGC,ATT,TGG,GCA,TT <br>\n",
    "<br>\n",
    "The inputs to the function should be the sequence string and the threshold value. The output\n",
    "should be a list of lists. The length of the list should be the number of ORFs. Each element of the\n",
    "list should be another list with three numbers describing an individual ORF: the frame number,\n",
    "the nucleotide position of the first position of the start codon, and the nucleotide position of the\n",
    "first position of the in-frame stop codon. For the example above, with threshold 5, the output\n",
    "should be: [[1,9,27],[2,1,16]]."
   ]
  },
  {
   "cell_type": "code",
   "execution_count": 2,
   "metadata": {},
   "outputs": [],
   "source": [
    "def cleanSeq(seq, index):\n",
    "    \"\"\"\n",
    "    cleans out non codons based on reading frame\n",
    "    :param seq: DNA sequence\n",
    "    :param index: start index for reading frame\n",
    "    :return: new sequence that only contains codons\n",
    "    \"\"\"\n",
    "    # cut out non-codons\n",
    "    rseq = seq[index:]\n",
    "    if len(rseq) % 3 != 0:\n",
    "        rseq = rseq[0:-(len(rseq) % 3)]\n",
    "    return rseq\n",
    "    \n",
    "def readCodon(seq, threshold):\n",
    "    \"\"\"\n",
    "    extracts codons from sequence by reading 3 different frames & finds ORF\n",
    "    :param seq: DNA sequence\n",
    "    :param threshold: threshold for ORF length\n",
    "    :return: list of ORF\n",
    "    \"\"\"\n",
    "    start = 'ATG'\n",
    "    stop = {'TGA', 'TAA', 'TAG'}\n",
    "    orfs = []\n",
    "    # for 3 different frames\n",
    "    for i in range(3):\n",
    "        start_index = []\n",
    "        stop_index = []\n",
    "        # cut out non-codons\n",
    "        rseq = cleanSeq(seq, i)\n",
    "        # look find start & stop codons\n",
    "        for j in range(len(rseq) // 3):\n",
    "            codon = rseq[3*j:3*j+3]\n",
    "            if codon == start:\n",
    "                start_index.append(3*j+i)\n",
    "            elif codon in stop:\n",
    "                stop_index.append(3*j+i)\n",
    "        # find ORF\n",
    "        a, b = 0, 0\n",
    "        while a < len(start_index) and b < len(stop_index):\n",
    "            if start_index[a] < stop_index[b]:\n",
    "                if stop_index[b] - start_index[a] >= 3*(threshold-1):\n",
    "                    orfs.append([start_index[a], stop_index[b]])\n",
    "                a += 1\n",
    "            else:\n",
    "                b += 1\n",
    "    return orfs\n",
    "\n",
    "def findORF(seq, threshold):\n",
    "    orfs = []\n",
    "    for orf in readCodon(seq, threshold):\n",
    "        orfs.append([len(orfs)+1, orf[0], orf[1]])\n",
    "    for orf in readCodon(reverseComplement(seq), threshold):\n",
    "        orfs.append([len(orfs)+1, orf[0], orf[1]])\n",
    "    return orfs\n",
    "            "
   ]
  },
  {
   "cell_type": "markdown",
   "metadata": {},
   "source": [
    "#### 3. Download the FASTA file “ACE2.fasta” from Blackboard. Use function #2, <i>with threshold 700</i>, to find all ORFs"
   ]
  },
  {
   "cell_type": "code",
   "execution_count": 3,
   "metadata": {},
   "outputs": [
    {
     "data": {
      "text/plain": [
       "[[1, 49, 2464], [2, 232, 2464], [3, 292, 2464]]"
      ]
     },
     "execution_count": 3,
     "metadata": {},
     "output_type": "execute_result"
    }
   ],
   "source": [
    "def openFASTA(filename: str):\n",
    "    sequence = ''\n",
    "    with open(filename) as f:\n",
    "        for line in f:\n",
    "            # ignore whitespace\n",
    "            line = line.strip()\n",
    "            if line == '':\n",
    "                continue\n",
    "            # ignore headers & comments\n",
    "            if line[0] == '>' or line[0] == ';':\n",
    "                continue\n",
    "            # ignore end-sequence denotation\n",
    "            if line[-1] == '*':\n",
    "                sequence += line[:-1]\n",
    "            else:\n",
    "                sequence += line\n",
    "    return sequence\n",
    "\n",
    "seq = openFASTA('ACE2.fasta')\n",
    "findORF(seq, 700)"
   ]
  },
  {
   "cell_type": "markdown",
   "metadata": {},
   "source": [
    "#### 4. Write a Python function that takes two inputs: a float gc and an integer l. This function returns the expected value E[X] and the probability P(X>L), where X is a geometric random variable representing the number of codons until getting a stop codon"
   ]
  },
  {
   "cell_type": "markdown",
   "metadata": {},
   "source": [
    "For example, with the inputs (gc=0.4, I=50):\n",
    "<br> <br>\n",
    "First, the function calculates p, the probability of getting a stop codon:\n",
    "<br>\n",
    "$ 𝑝 = 𝑃(𝑇𝐴𝐺 𝑜𝑟 𝑇𝐴𝐴 𝑜𝑟 𝑇𝐺𝐴) = (0.3 × 0.3 × 0.2) + (0.3 × 0.3 × 0.3) + (0.3 × 0.2 × 0.3)\n",
    "= 0.063 $\n",
    "<br> <br>\n",
    "Second, the function calculates $ 𝐸[𝑋] = 1⁄𝑝 = 15.873 $ <br> <br>\n",
    "Third, the function calculates $ 𝑃(𝑋 > 𝐿) = 1 − 𝑃(𝑋 ≤ 50) = 1 − 0.961 = 0.039 $ <br> <br>\n",
    "Finally, the function returns 15.873 and 0.039"
   ]
  },
  {
   "cell_type": "code",
   "execution_count": 4,
   "metadata": {},
   "outputs": [],
   "source": [
    "from scipy import stats\n",
    "\n",
    "def calcP(gc, l):\n",
    "    p = ((1-gc)/2)**3 + 2*(((1-gc)/2)**2)*(gc/2)\n",
    "    X = stats.geom(p)\n",
    "    return X.expect(), 1 - X.cdf(l)"
   ]
  },
  {
   "cell_type": "markdown",
   "metadata": {},
   "source": [
    "#### 5. If you try to optimize your Python code, describe how you improve the performance"
   ]
  },
  {
   "cell_type": "markdown",
   "metadata": {},
   "source": [
    "Instead of using 2 for loops (one for start codons and one for stop codons), I used a while loop with 2 counters. This way, the algorithm does not spend time on checking stop codons that have already been 'checked'. Therefore, while the for loop algorithm will have a runtime of O(nm), the while loop algorithm will have a runtime of O(n + m) where n is the number of start codons and m is the number of stop codons. "
   ]
  },
  {
   "cell_type": "markdown",
   "metadata": {},
   "source": [
    "#### TESTS"
   ]
  },
  {
   "cell_type": "code",
   "execution_count": 5,
   "metadata": {},
   "outputs": [
    {
     "name": "stderr",
     "output_type": "stream",
     "text": [
      "test_default (__main__.TestCalcP) ... ok\n",
      "test_default (__main__.TestFindORF) ... ok\n",
      "test_multipleEnds (__main__.TestFindORF) ... ok\n",
      "test_multipleORF (__main__.TestFindORF) ... ok\n",
      "test_noEnd (__main__.TestFindORF) ... ok\n",
      "test_noStart (__main__.TestFindORF) ... ok\n",
      "test_overlap (__main__.TestFindORF) ... ok\n",
      "test_overlap2 (__main__.TestFindORF) ... ok\n",
      "test_threshold (__main__.TestFindORF) ... ok\n",
      "test_default (__main__.TestReverseComplement) ... ok\n",
      "\n",
      "----------------------------------------------------------------------\n",
      "Ran 10 tests in 0.032s\n",
      "\n",
      "OK\n"
     ]
    },
    {
     "data": {
      "text/plain": [
       "<unittest.main.TestProgram at 0x1ca0a36ec70>"
      ]
     },
     "execution_count": 5,
     "metadata": {},
     "output_type": "execute_result"
    }
   ],
   "source": [
    "import unittest\n",
    "import numpy as np\n",
    "\n",
    "class TestReverseComplement(unittest.TestCase):\n",
    "    def test_default(self):\n",
    "        seq = \"CATGCCGGAATT\"\n",
    "        \n",
    "        output = reverseComplement(seq)\n",
    "        \n",
    "        self.assertEqual('AATTCCGGCATG', output)\n",
    "        \n",
    "class TestFindORF(unittest.TestCase):\n",
    "    def test_default(self):\n",
    "        seq = 'AATGCCCAAATGCTTTTAAAACCCATGTAGC'\n",
    "        \n",
    "        orfs = findORF(seq, 5)\n",
    "        \n",
    "        self.assertEqual([[1,9,27], [2,1,16]], orfs)\n",
    "    \n",
    "    def test_overlap(self):\n",
    "        seq = \"ATG...ATG...TAG\"\n",
    "        \n",
    "        orfs = findORF(seq, 1)\n",
    "        \n",
    "        self.assertEqual([[1,0,12],[2,6,12]], orfs)\n",
    "        \n",
    "    def test_overlap2(self):\n",
    "        seq = \"ATG...ATG...TAG...TAG\"\n",
    "        \n",
    "        orfs = findORF(seq, 1)\n",
    "        \n",
    "        self.assertEqual([[1,0,12],[2,6,12]], orfs)\n",
    "        \n",
    "    def test_noEnd(self):\n",
    "        seq = 'ATG...'\n",
    "        \n",
    "        orfs = findORF(seq, 1)\n",
    "        \n",
    "        self.assertEqual([], orfs)\n",
    "    \n",
    "    def test_multipleEnds(self):\n",
    "        seq = 'ATG...TAG...TAG'\n",
    "        \n",
    "        orfs = findORF(seq, 1)\n",
    "        \n",
    "        self.assertEqual([[1,0,6]], orfs)\n",
    "        \n",
    "    def test_noStart(self):\n",
    "        seq = '...TAG'\n",
    "        \n",
    "        orfs = findORF(seq, 1)\n",
    "        \n",
    "        self.assertEqual([], orfs)\n",
    "        \n",
    "    def test_multipleORF(self):\n",
    "        seq = 'ATG...TAG...ATG...TAG...ATG...TAG'\n",
    "        \n",
    "        orfs = findORF(seq, 1)\n",
    "        \n",
    "        self.assertEqual([[1,0,6],[2,12,18],[3,24,30]], orfs)\n",
    "    \n",
    "    def test_threshold(self):\n",
    "        threshold = 3\n",
    "        seq = 'ATGTAG'\n",
    "        \n",
    "        orfs = findORF(seq, threshold)\n",
    "        \n",
    "        self.assertEqual([], orfs)\n",
    "        \n",
    "class TestCalcP(unittest.TestCase):\n",
    "    def test_default(self):\n",
    "        a, b = calcP(0.4, 50)\n",
    "        \n",
    "        np.testing.assert_almost_equal(a, 15.8730158)\n",
    "        np.testing.assert_almost_equal(b, 0.038634878)    \n",
    "    \n",
    "unittest.main(argv=[''], verbosity=2, exit=False)"
   ]
  },
  {
   "cell_type": "code",
   "execution_count": null,
   "metadata": {},
   "outputs": [],
   "source": []
  }
 ],
 "metadata": {
  "kernelspec": {
   "display_name": "Python 3",
   "language": "python",
   "name": "python3"
  },
  "language_info": {
   "codemirror_mode": {
    "name": "ipython",
    "version": 3
   },
   "file_extension": ".py",
   "mimetype": "text/x-python",
   "name": "python",
   "nbconvert_exporter": "python",
   "pygments_lexer": "ipython3",
   "version": "3.8.5"
  }
 },
 "nbformat": 4,
 "nbformat_minor": 4
}
